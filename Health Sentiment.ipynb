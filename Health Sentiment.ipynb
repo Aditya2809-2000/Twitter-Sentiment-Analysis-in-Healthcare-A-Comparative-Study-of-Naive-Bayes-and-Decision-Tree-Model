{
 "cells": [
  {
   "cell_type": "code",
   "execution_count": 0,
   "metadata": {
    "application/vnd.databricks.v1+cell": {
     "cellMetadata": {
      "byteLimit": 2048000,
      "rowLimit": 10000
     },
     "inputWidgets": {},
     "nuid": "0dc2e2f3-e7ae-4132-b656-c1d593b55ff7",
     "showTitle": false,
     "title": ""
    }
   },
   "outputs": [
    {
     "output_type": "stream",
     "name": "stderr",
     "output_type": "stream",
     "text": [
      "[nltk_data] Downloading package vader_lexicon to /local_disk0/.ephemer\n[nltk_data]     al_nfs/envs/pythonEnv-42892cb0-0b91-4a1f-8600-e55b5de1\n[nltk_data]     181d/nltk_data...\n"
     ]
    },
    {
     "output_type": "stream",
     "name": "stdout",
     "output_type": "stream",
     "text": [
      "Out[1]: True"
     ]
    }
   ],
   "source": [
    "from pyspark.sql import SparkSession\n",
    "from pyspark.ml.feature import Tokenizer\n",
    "from pyspark.sql.types import StringType, ArrayType, LongType\n",
    "import re\n",
    "import pyspark.sql.functions as F\n",
    "import matplotlib.pyplot as plt\n",
    "\n",
    "import nltk\n",
    "from nltk.stem import WordNetLemmatizer\n",
    "from nltk.stem.snowball import SnowballStemmer\n",
    "from nltk.corpus import stopwords, wordnet\n",
    "from nltk.sentiment.vader import SentimentIntensityAnalyzer\n",
    "from pyspark.ml.feature import StringIndexer, OneHotEncoder, VectorAssembler\n",
    "from pyspark.ml.classification import NaiveBayes\n",
    "from pyspark.ml.tuning import ParamGridBuilder, CrossValidator\n",
    "from pyspark.ml.evaluation import MulticlassClassificationEvaluator\n",
    "from pyspark.ml import Pipeline\n",
    "from pyspark.ml.classification import GBTClassifier\n",
    "\n",
    "\"\"\"\n",
    "if driver/workers detach, this download_dir may need changing:\n",
    "  1. Run all as normal\n",
    "  2. Check the error at the SentimentIntensityAnalyzer definition -> 'searched in' section of error\n",
    "  3. Replace the download_dir with another 'local_disk0...' location that is currently being searched\n",
    "Other directories may work but we have persisting errors attempting to download with 'nltk.download('vader_lexicon')', and other tested directories give 'Permission denied' issues\n",
    "\"\"\"\n",
    "\n",
    "#nltk.download('vader_lexicon)\n",
    "nltk.download('vader_lexicon', download_dir='/local_disk0/.ephemeral_nfs/envs/pythonEnv-42892cb0-0b91-4a1f-8600-e55b5de1181d/nltk_data')"
   ]
  },
  {
   "cell_type": "code",
   "execution_count": 0,
   "metadata": {
    "application/vnd.databricks.v1+cell": {
     "cellMetadata": {
      "byteLimit": 2048000,
      "rowLimit": 10000
     },
     "inputWidgets": {},
     "nuid": "1b4c1e1a-b656-4ba9-b837-2f7621b8f456",
     "showTitle": false,
     "title": ""
    }
   },
   "outputs": [
    {
     "output_type": "stream",
     "name": "stdout",
     "output_type": "stream",
     "text": [
      "root\n |-- Tweet ID: string (nullable = true)\n |-- Time Posted: string (nullable = true)\n |-- Tweet Content: string (nullable = true)\n |-- Publication: string (nullable = true)\n |-- Link: string (nullable = true)\n\n"
     ]
    }
   ],
   "source": [
    "# LOAD AND UNDERSTAND THE DATA\n",
    "spark = SparkSession.builder.appName(\"myApp\").config(\"spark.sql.legacy.timeParserPolicy\", \"LEGACY\").getOrCreate()\n",
    "\n",
    "df = spark.read\\\n",
    "  .option(\"header\", \"true\") \\\n",
    "  .option(\"inferSchema\", \"true\") \\\n",
    "  .csv(\"/mnt/team8/dataset.csv\")\n",
    "\n",
    "df.printSchema()"
   ]
  },
  {
   "cell_type": "code",
   "execution_count": 0,
   "metadata": {
    "application/vnd.databricks.v1+cell": {
     "cellMetadata": {
      "byteLimit": 2048000,
      "rowLimit": 10000
     },
     "inputWidgets": {},
     "nuid": "fc9cb28a-5e00-464a-9ea6-755b9f653d45",
     "showTitle": false,
     "title": ""
    }
   },
   "outputs": [
    {
     "output_type": "stream",
     "name": "stdout",
     "output_type": "stream",
     "text": [
      "+------------------+--------------------+--------------------+-----------+\n|          Tweet ID|         Time Posted|       Tweet Content|Publication|\n+------------------+--------------------+--------------------+-----------+\n|585947808772960257|Wed Apr 08 23:30:...|GP workload harmi...|  bbchealth|\n|585947807816650752|Wed Apr 08 23:30:...|Short people's 'h...|  bbchealth|\n|585866060991078401|Wed Apr 08 18:05:...|New approach agai...|  bbchealth|\n|585794106170839041|Wed Apr 08 13:19:...|Coalition 'underm...|  bbchealth|\n|585733482413891584|Wed Apr 08 09:18:...|Review of case ag...|  bbchealth|\n|585733481608646657|Wed Apr 08 09:18:...|VIDEO: 'All day i...|  bbchealth|\n|585701601131765761|Wed Apr 08 07:11:...|VIDEO: 'Overhaul ...|  bbchealth|\n|585620828110397440|Wed Apr 08 01:51:...|Care for dying 'n...|  bbchealth|\n|585437294120677376|Tue Apr 07 13:41:...|VIDEO: NHS: Labou...|  bbchealth|\n|585437293399252992|Tue Apr 07 13:41:...|Have GP services ...|  bbchealth|\n|585376127931129857|Tue Apr 07 09:38:...|A&amp;E waiting h...|  bbchealth|\n|585283574888206336|Tue Apr 07 03:30:...|Parties row over ...|  bbchealth|\n|585231549819330560|Tue Apr 07 00:04:...|Why strenuous run...|  bbchealth|\n|584985578074050560|Mon Apr 06 07:46:...|VIDEO: Health sur...|  bbchealth|\n|584985576962592768|Mon Apr 06 07:46:...|VIDEO: Skin cance...|  bbchealth|\n|584901557218480129|Mon Apr 06 02:12:...|80,000 'might die...|  bbchealth|\n|584893680747585537|Mon Apr 06 01:41:...|Skin cancer 'link...|  bbchealth|\n|584140478720811008|Fri Apr 03 23:48:...|Public 'back tax ...|  bbchealth|\n|584140477718339584|Fri Apr 03 23:48:...|VIDEO: Welcome to...|  bbchealth|\n|583959459589824513|Fri Apr 03 11:49:...|VIDEO: Why are we...|  bbchealth|\n+------------------+--------------------+--------------------+-----------+\nonly showing top 20 rows\n\n"
     ]
    }
   ],
   "source": [
    "# PREPROCESSING\n",
    "df = df.drop(\"Link\")\n",
    "df.show()"
   ]
  },
  {
   "cell_type": "code",
   "execution_count": 0,
   "metadata": {
    "application/vnd.databricks.v1+cell": {
     "cellMetadata": {
      "byteLimit": 2048000,
      "rowLimit": 10000
     },
     "inputWidgets": {},
     "nuid": "b36c5a21-2a78-4325-8cb3-960f7b42c67a",
     "showTitle": false,
     "title": ""
    }
   },
   "outputs": [
    {
     "output_type": "stream",
     "name": "stdout",
     "output_type": "stream",
     "text": [
      "+------------------+--------------------+--------------------+-----------+-------------------+----+-----+------------+----+------+------+\n|          Tweet ID|         Time Posted|       Tweet Content|Publication|          timestamp|Year|Month|Day of Month|Hour|Minute|Second|\n+------------------+--------------------+--------------------+-----------+-------------------+----+-----+------------+----+------+------+\n|585947808772960257|Wed Apr 08 23:30:...|GP workload harmi...|  bbchealth|2015-04-08 23:30:18|2015|    4|           8|  23|    30|    18|\n|585947807816650752|Wed Apr 08 23:30:...|Short people's 'h...|  bbchealth|2015-04-08 23:30:18|2015|    4|           8|  23|    30|    18|\n|585866060991078401|Wed Apr 08 18:05:...|New approach agai...|  bbchealth|2015-04-08 18:05:28|2015|    4|           8|  18|     5|    28|\n|585794106170839041|Wed Apr 08 13:19:...|Coalition 'underm...|  bbchealth|2015-04-08 13:19:33|2015|    4|           8|  13|    19|    33|\n|585733482413891584|Wed Apr 08 09:18:...|Review of case ag...|  bbchealth|2015-04-08 09:18:39|2015|    4|           8|   9|    18|    39|\n|585733481608646657|Wed Apr 08 09:18:...|VIDEO: 'All day i...|  bbchealth|2015-04-08 09:18:39|2015|    4|           8|   9|    18|    39|\n|585701601131765761|Wed Apr 08 07:11:...|VIDEO: 'Overhaul ...|  bbchealth|2015-04-08 07:11:58|2015|    4|           8|   7|    11|    58|\n|585620828110397440|Wed Apr 08 01:51:...|Care for dying 'n...|  bbchealth|2015-04-08 01:51:00|2015|    4|           8|   1|    51|     0|\n|585437294120677376|Tue Apr 07 13:41:...|VIDEO: NHS: Labou...|  bbchealth|2015-04-07 13:41:42|2015|    4|           7|  13|    41|    42|\n|585437293399252992|Tue Apr 07 13:41:...|Have GP services ...|  bbchealth|2015-04-07 13:41:42|2015|    4|           7|  13|    41|    42|\n|585376127931129857|Tue Apr 07 09:38:...|A&amp;E waiting h...|  bbchealth|2015-04-07 09:38:39|2015|    4|           7|   9|    38|    39|\n|585283574888206336|Tue Apr 07 03:30:...|Parties row over ...|  bbchealth|2015-04-07 03:30:52|2015|    4|           7|   3|    30|    52|\n|585231549819330560|Tue Apr 07 00:04:...|Why strenuous run...|  bbchealth|2015-04-07 00:04:09|2015|    4|           7|   0|     4|     9|\n|584985578074050560|Mon Apr 06 07:46:...|VIDEO: Health sur...|  bbchealth|2015-04-06 07:46:44|2015|    4|           6|   7|    46|    44|\n|584985576962592768|Mon Apr 06 07:46:...|VIDEO: Skin cance...|  bbchealth|2015-04-06 07:46:44|2015|    4|           6|   7|    46|    44|\n|584901557218480129|Mon Apr 06 02:12:...|80,000 'might die...|  bbchealth|2015-04-06 02:12:52|2015|    4|           6|   2|    12|    52|\n|584893680747585537|Mon Apr 06 01:41:...|Skin cancer 'link...|  bbchealth|2015-04-06 01:41:34|2015|    4|           6|   1|    41|    34|\n|584140478720811008|Fri Apr 03 23:48:...|Public 'back tax ...|  bbchealth|2015-04-03 23:48:37|2015|    4|           3|  23|    48|    37|\n|584140477718339584|Fri Apr 03 23:48:...|VIDEO: Welcome to...|  bbchealth|2015-04-03 23:48:37|2015|    4|           3|  23|    48|    37|\n|583959459589824513|Fri Apr 03 11:49:...|VIDEO: Why are we...|  bbchealth|2015-04-03 11:49:19|2015|    4|           3|  11|    49|    19|\n+------------------+--------------------+--------------------+-----------+-------------------+----+-----+------------+----+------+------+\nonly showing top 20 rows\n\n"
     ]
    }
   ],
   "source": [
    "#split time posted column into 6 different time-related columns\n",
    "df = df.withColumn(\"timestamp\", F.to_timestamp(df[\"Time Posted\"], \"EEE MMM dd HH:mm:ss +0000 yyyy\"))\n",
    "df = df.withColumn(\"Year\", df[\"timestamp\"].substr(1, 4).cast(\"int\"))\n",
    "df = df.withColumn(\"Month\", df[\"timestamp\"].substr(6, 2).cast(\"int\"))\n",
    "df = df.withColumn(\"Day of Month\", df[\"timestamp\"].substr(9, 2).cast(\"int\"))\n",
    "df = df.withColumn(\"Hour\", df[\"timestamp\"].substr(12, 2).cast(\"int\"))\n",
    "df = df.withColumn(\"Minute\", df[\"timestamp\"].substr(15, 2).cast(\"int\"))\n",
    "df = df.withColumn(\"Second\", df[\"timestamp\"].substr(18, 2).cast(\"int\"))\n",
    "df.show()"
   ]
  },
  {
   "cell_type": "code",
   "execution_count": 0,
   "metadata": {
    "application/vnd.databricks.v1+cell": {
     "cellMetadata": {
      "byteLimit": 2048000,
      "rowLimit": 10000
     },
     "inputWidgets": {},
     "nuid": "3748b44f-5e92-4cc2-8286-0a5c420021e9",
     "showTitle": false,
     "title": ""
    }
   },
   "outputs": [
    {
     "output_type": "stream",
     "name": "stdout",
     "output_type": "stream",
     "text": [
      "+------------------+--------------------+-----------+----+-----+------------+----+------+------+\n|          Tweet ID|       Tweet Content|Publication|Year|Month|Day of Month|Hour|Minute|Second|\n+------------------+--------------------+-----------+----+-----+------------+----+------+------+\n|585947808772960257|GP workload harmi...|  bbchealth|2015|    4|           8|  23|    30|    18|\n|585947807816650752|Short people's 'h...|  bbchealth|2015|    4|           8|  23|    30|    18|\n|585866060991078401|New approach agai...|  bbchealth|2015|    4|           8|  18|     5|    28|\n|585794106170839041|Coalition 'underm...|  bbchealth|2015|    4|           8|  13|    19|    33|\n|585733482413891584|Review of case ag...|  bbchealth|2015|    4|           8|   9|    18|    39|\n|585733481608646657|VIDEO: 'All day i...|  bbchealth|2015|    4|           8|   9|    18|    39|\n|585701601131765761|VIDEO: 'Overhaul ...|  bbchealth|2015|    4|           8|   7|    11|    58|\n|585620828110397440|Care for dying 'n...|  bbchealth|2015|    4|           8|   1|    51|     0|\n|585437294120677376|VIDEO: NHS: Labou...|  bbchealth|2015|    4|           7|  13|    41|    42|\n|585437293399252992|Have GP services ...|  bbchealth|2015|    4|           7|  13|    41|    42|\n+------------------+--------------------+-----------+----+-----+------------+----+------+------+\nonly showing top 10 rows\n\n"
     ]
    }
   ],
   "source": [
    "df = df.drop(\"Time Posted\", \"timestamp\")\n",
    "df.show(10)"
   ]
  },
  {
   "cell_type": "code",
   "execution_count": 0,
   "metadata": {
    "application/vnd.databricks.v1+cell": {
     "cellMetadata": {
      "byteLimit": 2048000,
      "rowLimit": 10000
     },
     "inputWidgets": {},
     "nuid": "76448c40-8f74-4450-b8ed-515b31bc15c3",
     "showTitle": false,
     "title": ""
    }
   },
   "outputs": [
    {
     "output_type": "stream",
     "name": "stdout",
     "output_type": "stream",
     "text": [
      "+-----------------------------------------------------------------------+\n|tokenized_words                                                        |\n+-----------------------------------------------------------------------+\n|[GP, workload, harming, care, -, BMA, poll]                            |\n|[Short, people's, ', heart, risk, greater, ']                          |\n|[New, approach, against, HIV, ', promising, ']                         |\n|[Coalition, ', undermined, NHS, ', -, doctors]                         |\n|[Review, of, case, against, NHS, manager]                              |\n|[VIDEO, :, ', All, day, is, empty, ,, what, am, I, going, to, do, ?, ']|\n|[VIDEO, :, ', Overhaul, needed, ', for, end-of-life, care]             |\n|[Care, for, dying, ', needs, overhaul, ']                              |\n|[VIDEO, :, NHS, :, Labour, and, Tory, key, policies]                   |\n|[Have, GP, services, got, worse, ?]                                    |\n+-----------------------------------------------------------------------+\nonly showing top 10 rows\n\n"
     ]
    }
   ],
   "source": [
    "tokenizer = nltk.tokenize.TweetTokenizer()\n",
    "\n",
    "def tokenize_text(text):\n",
    "    if isinstance(text, str):\n",
    "        return tokenizer.tokenize(text)\n",
    "    else:\n",
    "        return []\n",
    "\n",
    "tokenize_udf = udf(tokenize_text, ArrayType(StringType()))\n",
    "\n",
    "# Apply the UDF to the 'Tweet Content' column and create a new column 'tokenized_words'\n",
    "df = df.withColumn(\"tokenized_words\", tokenize_udf(\"Tweet Content\"))\n",
    "\n",
    "\n",
    "# Show first 10 rows\n",
    "df.select(\"tokenized_words\").show(10, truncate=False)"
   ]
  },
  {
   "cell_type": "code",
   "execution_count": 0,
   "metadata": {
    "application/vnd.databricks.v1+cell": {
     "cellMetadata": {
      "byteLimit": 2048000,
      "rowLimit": 10000
     },
     "inputWidgets": {},
     "nuid": "b55bc33e-4948-4e59-9276-0551303db83c",
     "showTitle": false,
     "title": ""
    }
   },
   "outputs": [
    {
     "output_type": "stream",
     "name": "stdout",
     "output_type": "stream",
     "text": [
      "+------------------+------------------------------------+-----------+----+-----+------------+----+------+------+----------------------------------------------+-------------------------------------------+\n|Tweet ID          |Tweet Content                       |Publication|Year|Month|Day of Month|Hour|Minute|Second|tokenized_words                               |stemmed_words                              |\n+------------------+------------------------------------+-----------+----+-----+------------+----+------+------+----------------------------------------------+-------------------------------------------+\n|585947808772960257|GP workload harming care - BMA poll |bbchealth  |2015|4    |8           |23  |30    |18    |[GP, workload, harming, care, -, BMA, poll]   |[gp, workload, harm, care, -, bma, poll]   |\n|585947807816650752|Short people's 'heart risk greater' |bbchealth  |2015|4    |8           |23  |30    |18    |[Short, people's, ', heart, risk, greater, '] |[short, peopl, ', heart, risk, greater, '] |\n|585866060991078401|New approach against HIV 'promising'|bbchealth  |2015|4    |8           |18  |5     |28    |[New, approach, against, HIV, ', promising, ']|[new, approach, against, hiv, ', promis, ']|\n|585794106170839041|Coalition 'undermined NHS' - doctors|bbchealth  |2015|4    |8           |13  |19    |33    |[Coalition, ', undermined, NHS, ', -, doctors]|[coalit, ', undermin, nhs, ', -, doctor]   |\n|585733482413891584|Review of case against NHS manager  |bbchealth  |2015|4    |8           |9   |18    |39    |[Review, of, case, against, NHS, manager]     |[review, of, case, against, nhs, manag]    |\n+------------------+------------------------------------+-----------+----+-----+------------+----+------+------+----------------------------------------------+-------------------------------------------+\nonly showing top 5 rows\n\n"
     ]
    }
   ],
   "source": [
    "# define the stemmer to use in preprocessing\n",
    "stemmer = SnowballStemmer(language='english')\n",
    "\n",
    "\n",
    "# Define a UDF to apply stemming, lemmatization and removing punctuation/converting to lowercase over tokenized_words\n",
    "def stem_words(tokens):\n",
    "  return [stemmer.stem(token) for token in tokens]\n",
    "\n",
    "stem_words_udf = F.udf(stem_words, ArrayType(StringType()))\n",
    "\n",
    "# Apply the UDF on tokenized column\n",
    "df = df.withColumn(\"stemmed_words\", stem_words_udf(F.col(\"tokenized_words\")))\n",
    "\n",
    "# Display the first 5 rows of the preprocessed content\n",
    "df.show(5, truncate=False)"
   ]
  },
  {
   "cell_type": "code",
   "execution_count": 0,
   "metadata": {
    "application/vnd.databricks.v1+cell": {
     "cellMetadata": {
      "byteLimit": 2048000,
      "rowLimit": 10000
     },
     "inputWidgets": {},
     "nuid": "c427b8ed-14d0-439c-a89d-a25f19bd38eb",
     "showTitle": false,
     "title": ""
    }
   },
   "outputs": [],
   "source": [
    "#lemmatized_words = [lemmatizer.lemmatize(word) for word in stemmed_words]\n",
    "\n",
    "# define a lemmatizer to apply general english language rules to the text for the lemmatized versions\n",
    "def lemmatize(word_list):\n",
    "    lemmatized_list = []\n",
    "    for word in word_list:\n",
    "        if word.endswith('s'):\n",
    "            if word.endswith('ss'):\n",
    "                lemmatized_word = word\n",
    "            elif word.endswith('ies'):\n",
    "                lemmatized_word = word[:-3] + 'y'\n",
    "            else:\n",
    "                lemmatized_word = word[:-1]\n",
    "        elif word.endswith('ing'):\n",
    "            if len(word) > 5:\n",
    "                if word[-4] == word[-5]:\n",
    "                    lemmatized_word = word[:-4]\n",
    "                else:\n",
    "                    lemmatized_word = word[:-3] + 'e'\n",
    "            else:\n",
    "                lemmatized_word = word[:-3]\n",
    "        elif word.endswith('ed'):\n",
    "            if len(word) > 4:\n",
    "                if word[-3] == word[-4]:\n",
    "                    lemmatized_word = word[:-3]\n",
    "                else:\n",
    "                    lemmatized_word = word[:-2] + 'e'\n",
    "            else:\n",
    "                lemmatized_word = word[:-2]\n",
    "        else:\n",
    "            lemmatized_word = word\n",
    "        lemmatized_list.append(lemmatized_word)\n",
    "    return lemmatized_list\n",
    "\n",
    "# define lemmatized words udf and apply it to the column of stemmed words\n",
    "lemmatize_udf = udf(lemmatize, ArrayType(StringType()))\n",
    "\n",
    "df = df.withColumn('lemmatized_words', lemmatize_udf(df['stemmed_words']))"
   ]
  },
  {
   "cell_type": "code",
   "execution_count": 0,
   "metadata": {
    "application/vnd.databricks.v1+cell": {
     "cellMetadata": {
      "byteLimit": 2048000,
      "rowLimit": 10000
     },
     "inputWidgets": {},
     "nuid": "4db933a8-e4ec-48e4-95c1-455b9a271233",
     "showTitle": false,
     "title": ""
    }
   },
   "outputs": [],
   "source": [
    "# define the regex to remove punctuation\n",
    "pattern = re.compile('[^\\w\\s]')\n",
    "\n",
    "# apply the regex pattern and make all words lowercase\n",
    "def no_punc_lower_words(words):\n",
    "  return [pattern.sub('', word.lower()) for word in words]\n",
    "\n",
    "# define a udf for no punctuation and lowercase words and apply this to the column of lemmatized words\n",
    "no_punc_lower_udf = udf(no_punc_lower_words, StringType())\n",
    "\n",
    "df = df.withColumn('no_punc_lower_words', no_punc_lower_udf(df['lemmatized_words']))"
   ]
  },
  {
   "cell_type": "code",
   "execution_count": 0,
   "metadata": {
    "application/vnd.databricks.v1+cell": {
     "cellMetadata": {
      "byteLimit": 2048000,
      "rowLimit": 10000
     },
     "inputWidgets": {},
     "nuid": "447cad16-b82d-47d5-b482-0a83db701d12",
     "showTitle": false,
     "title": ""
    }
   },
   "outputs": [],
   "source": [
    "# create an instance of the vader sentiment analyzer\n",
    "analyzer = SentimentIntensityAnalyzer()\n",
    "\n",
    "# define UDF to apply the vader_lexicon model to each no_punc_lower_words list and return the sentiment result\n",
    "def analyze_sentiment(words):\n",
    "    scores = analyzer.polarity_scores(' '.join(words))\n",
    "    if scores['compound'] >= 0:\n",
    "        return 'Positive'\n",
    "    else:\n",
    "        return 'Negative'\n",
    "\n",
    "# define the udf for the sentiment and apply it to the no_punc_lower_words column for the final sentiment labels\n",
    "analyze_sentiment_udf = F.udf(analyze_sentiment, StringType())\n",
    "\n",
    "df = df.withColumn(\"Sentiment\", analyze_sentiment_udf(F.col(\"no_punc_lower_words\")))"
   ]
  },
  {
   "cell_type": "code",
   "execution_count": 0,
   "metadata": {
    "application/vnd.databricks.v1+cell": {
     "cellMetadata": {
      "byteLimit": 2048000,
      "rowLimit": 10000
     },
     "inputWidgets": {},
     "nuid": "cebbc786-233a-4127-b277-6fd18b79c658",
     "showTitle": false,
     "title": ""
    }
   },
   "outputs": [
    {
     "output_type": "stream",
     "name": "stdout",
     "output_type": "stream",
     "text": [
      "+------------------+--------------------+-----------+----+-----+------------+----+------+------+---------+\n|          Tweet ID|       Tweet Content|Publication|Year|Month|Day of Month|Hour|Minute|Second|Sentiment|\n+------------------+--------------------+-----------+----+-----+------------+----+------+------+---------+\n|585947808772960257|GP workload harmi...|  bbchealth|2015|    4|           8|  23|    30|    18| Negative|\n|585947807816650752|Short people's 'h...|  bbchealth|2015|    4|           8|  23|    30|    18| Positive|\n|585866060991078401|New approach agai...|  bbchealth|2015|    4|           8|  18|     5|    28| Positive|\n|585794106170839041|Coalition 'underm...|  bbchealth|2015|    4|           8|  13|    19|    33| Positive|\n|585733482413891584|Review of case ag...|  bbchealth|2015|    4|           8|   9|    18|    39| Positive|\n|585733481608646657|VIDEO: 'All day i...|  bbchealth|2015|    4|           8|   9|    18|    39| Positive|\n|585701601131765761|VIDEO: 'Overhaul ...|  bbchealth|2015|    4|           8|   7|    11|    58| Positive|\n|585620828110397440|Care for dying 'n...|  bbchealth|2015|    4|           8|   1|    51|     0| Negative|\n|585437294120677376|VIDEO: NHS: Labou...|  bbchealth|2015|    4|           7|  13|    41|    42| Positive|\n|585437293399252992|Have GP services ...|  bbchealth|2015|    4|           7|  13|    41|    42| Positive|\n+------------------+--------------------+-----------+----+-----+------------+----+------+------+---------+\nonly showing top 10 rows\n\n"
     ]
    }
   ],
   "source": [
    "df = df.drop(\"tokenized_words\", 'stemmed_words', 'lemmatized_words', 'no_punc_lower_words')\n",
    "df.show(10)"
   ]
  },
  {
   "cell_type": "code",
   "execution_count": 0,
   "metadata": {
    "application/vnd.databricks.v1+cell": {
     "cellMetadata": {
      "byteLimit": 2048000,
      "rowLimit": 10000
     },
     "inputWidgets": {},
     "nuid": "e99cfc70-4127-4ab4-963e-7c435368249c",
     "showTitle": false,
     "title": ""
    }
   },
   "outputs": [
    {
     "output_type": "display_data",
     "data": {
      "image/png": "[encoded data removed]"
     },
     "metadata": {
      "application/vnd.databricks.v1+output": {
       "addedWidgets": {},
       "arguments": {},
       "data": "data:image/png;base64,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\n",
       "datasetInfos": [],
       "metadata": {},
       "removedWidgets": [],
       "type": "image"
      }
     },
     "output_type": "display_data"
    }
   ],
   "source": [
    "# Count the number of each sentiment label\n",
    "sentiment_counts = df.groupBy('Sentiment').count().collect()\n",
    "\n",
    "# Extract the counts and labels into separate lists\n",
    "labels = [row['Sentiment'] for row in sentiment_counts]\n",
    "counts = [row['count'] for row in sentiment_counts]\n",
    "\n",
    "# Create a bar graph\n",
    "fig, ax = plt.subplots()\n",
    "ax.bar(labels, counts)\n",
    "ax.set_title('Sentiment Distribution')\n",
    "ax.set_xlabel('Sentiment Label')\n",
    "ax.set_ylabel('Count')\n",
    "plt.show()"
   ]
  },
  {
   "cell_type": "code",
   "execution_count": 0,
   "metadata": {
    "application/vnd.databricks.v1+cell": {
     "cellMetadata": {
      "byteLimit": 2048000,
      "rowLimit": 10000
     },
     "inputWidgets": {},
     "nuid": "38e563d7-19cf-4a6f-83a1-024105e2deba",
     "showTitle": false,
     "title": ""
    }
   },
   "outputs": [],
   "source": [
    "# splits the data into 70% for the training set and 30% for the testing set, with a random seed of 134\n",
    "train_data, test_data = df.randomSplit([0.7, 0.3], seed=134)"
   ]
  },
  {
   "cell_type": "code",
   "execution_count": 0,
   "metadata": {
    "application/vnd.databricks.v1+cell": {
     "cellMetadata": {
      "byteLimit": 2048000,
      "rowLimit": 10000
     },
     "inputWidgets": {},
     "nuid": "22096d25-1a80-4282-b9a1-b6dade10de9d",
     "showTitle": false,
     "title": ""
    }
   },
   "outputs": [
    {
     "output_type": "display_data",
     "data": {
      "image/png": "[encoded data removed]"
     },
     "metadata": {
      "application/vnd.databricks.v1+output": {
       "addedWidgets": {},
       "arguments": {},
       "data": "data:image/png;base64,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\n",
       "datasetInfos": [],
       "metadata": {},
       "removedWidgets": [],
       "type": "image"
      }
     },
     "output_type": "display_data"
    }
   ],
   "source": [
    "# VISUALISATION\n",
    "pdf = df.toPandas()\n",
    "\n",
    "# Group by month and sentiment\n",
    "grouped = pdf.groupby(['Year', 'Sentiment']).size().reset_index(name='count')\n",
    "\n",
    "# Pivot the table to have months as columns and sentiments as rows\n",
    "pivoted = grouped.pivot(index='Sentiment', columns='Year', values='count')\n",
    "\n",
    "# Create a bar plot\n",
    "pivoted.plot(kind='bar')\n",
    "plt.show()"
   ]
  },
  {
   "cell_type": "code",
   "execution_count": 0,
   "metadata": {
    "application/vnd.databricks.v1+cell": {
     "cellMetadata": {
      "byteLimit": 2048000,
      "rowLimit": 10000
     },
     "inputWidgets": {},
     "nuid": "4f0c8c9b-269e-4131-983b-c2ccb5dbb211",
     "showTitle": false,
     "title": ""
    }
   },
   "outputs": [
    {
     "output_type": "display_data",
     "data": {
      "image/png": "[encoded data removed]"
     },
     "metadata": {
      "application/vnd.databricks.v1+output": {
       "addedWidgets": {},
       "arguments": {},
       "data": "data:image/png;base64,iVBORw0KGgoAAAANSUhEUgAAAX0AAAEtCAYAAADk97CmAAAAOXRFWHRTb2Z0d2FyZQBNYXRwbG90bGliIHZlcnNpb24zLjUuMSwgaHR0cHM6Ly9tYXRwbG90bGliLm9yZy/YYfK9AAAACXBIWXMAAAsTAAALEwEAmpwYAAAnYElEQVR4nO3de3xV9Znv8c8jFxFU7ijNRkFDJdyMEAVbpYgTBGSiKEWRCgqWwQNVj9MWes4MiB1rbF9VscVaFDHavghKdZJRRDMox0sFGoTiBZ1QTUtSihguoohc+pw/9kqamIQE3Nkr7PV9v1557bV+v99a+9mtPnv527/1LHN3REQkGk4IOwAREUkeJX0RkQhR0hcRiRAlfRGRCFHSFxGJECV9EZEIaVTSN7MOZrbczN4zs81mdqGZdTKzIjMrCV47BmPNzB4wsy1mtsnMBlU7z5RgfImZTWmqDyUiInVr7JX+AmClu/cBzgU2A3OAVe7eG1gV7AOMBnoHf9OBXwGYWSdgHjAEuACYV/lFISIiydFg0jez9sAwYDGAux9w993AFUBeMCwPuDLYvgJ43OPWAB3MrDtwGVDk7jvdfRdQBIxK4GcREZEGtGzEmF7ADmCJmZ0LrAduBU5z923BmL8BpwXbacDWaseXBW31tderS5cu3rNnz0aEKCIildavX/+xu3etq68xSb8lMAj4nruvNbMF/GMqBwB3dzNLSD0HM5tOfFqIM844g+Li4kScVkQkMszsz/X1NWZOvwwoc/e1wf5y4l8C24NpG4LXj4L+cqBHteNjQVt97TW4+yJ3z3L3rK5d6/yiEhGRY9Rg0nf3vwFbzeycoOlS4F2gEKhcgTMFKAi2C4HJwSqeocCeYBroBWCkmXUMfsAdGbSJiEiSNGZ6B+B7wG/NrDXwAXAj8S+MJ81sGvBnYEIwdgUwBtgC7AvG4u47zezHwB+CcXe6+86EfAoREWkUa86llbOyslxz+iIiR8fM1rt7Vl19uiNXRCRClPRFRCJESV9EJEKU9EVEIkRJX0QkQhq7ZFNEjlM95zxXb19p7uVJjESaA13pi4hEiJK+iEiEaHpHJMruaH+Evj3Ji0OSRklfUsLBgwcpKytj//79YYfSZNq0aUMsFqNVq1ZhhyLHMSV9SQllZWWccsop9OzZEzMLO5yEc3cqKiooKyujV69eYYcjxzHN6UtK2L9/P507d07JhA9gZnTu3Dml/0tGkkNJX1JGqib8Sqn++SQ5lPQl0syM73znO1X7hw4domvXrowdO/aYzrd7924efPDBqv3Vq1cf87lEmoKSvkRau3btePvtt/n8888BKCoqIi3tiI9uPqIvJ32R5kZJXyJvzJgxPPdc/K7VpUuXMnHixKq+nTt3cuWVVzJw4ECGDh3Kpk2bALjjjjuYOnUqw4cP56yzzuKBBx4AYM6cOfzpT38iMzOTH/zgBwB8+umnjB8/nj59+jBp0iSa8zMsJPUp6UvkXXvtteTn57N//342bdrEkCFDqvrmzZvHeeedx6ZNm/jJT37C5MmTq/ree+89XnjhBdatW8f8+fM5ePAgubm5nH322WzcuJGf/exnAGzYsIH777+fd999lw8++IDXX3896Z9RpJKSvkTewIEDKS0tZenSpYwZM6ZG32uvvcb1118PwIgRI6ioqOCTTz4B4PLLL+fEE0+kS5cudOvWje3bt9d5/gsuuIBYLMYJJ5xAZmYmpaWlTfp5RI5E6/RFgJycHL7//e+zevVqKioqGnXMiSeeWLXdokULDh069JXGiSSDrvRFgKlTpzJv3jwGDBhQo/3iiy/mt7/9LRBfidOlSxdOPfXUes9zyimnsHfv3iaNVeSr0JW+CBCLxbjllltqtVf+YDtw4EDatm1LXl7eEc/TuXNnvvnNb9K/f39Gjx7N5ZerdLE0L9acVxJkZWV5cXFx2GHIcWDz5s1kZGSEHUaTO5bPecR6+m2uq/9AFVw7bpnZenfPqqtP0zsiIhGipC8iEiFK+iIiEaKkLyISIUr6IiIR0qikb2alZvaWmW00s+KgrZOZFZlZSfDaMWg3M3vAzLaY2SYzG1TtPFOC8SVmNqVpPpKIiNTnaK70L3H3zGrLgOYAq9y9N7Aq2AcYDfQO/qYDv4L4lwQwDxgCXADMq/yiEEkFU6dOpVu3bvTv37/OfnfnlltuIT09nYEDB/Lmm28mOUKRr3Zz1hXA8GA7D1gNzA7aH/f4DQBrzKyDmXUPxha5+04AMysCRgFLv0IMInU60tr0Y1Ga2/BNVjfccAOzZs2qUZStuueff56SkhJKSkpYu3YtN998M2vXrk1onCINaeyVvgMvmtl6M5setJ3m7tuC7b8BpwXbacDWaseWBW31tYukhGHDhtGpU6d6+wsKCpg8eTJmxtChQ9m9ezfbtm2rd7xIU2jslf5F7l5uZt2AIjN7r3qnu7uZJeTW3uBLZTrAGWeckYhTijQL5eXl9OjRo2o/FotRXl5O9+7dQ4xKoqZRV/ruXh68fgQ8Q3xOfnswbUPw+lEwvBzoUe3wWNBWX/uX32uRu2e5e1bXrl2P7tOIiMgRNZj0zaydmZ1SuQ2MBN4GCoHKFThTgIJguxCYHKziGQrsCaaBXgBGmlnH4AfckUGbSCSkpaWxdes/ZjjLysq+0qMZRY5FY670TwNeM7M/AuuA59x9JZALZJtZCfBPwT7ACuADYAvwMPC/AIIfcH8M/CH4u7PyR12RKMjJyeHxxx/H3VmzZg3t27fX1I4kXYNz+u7+AXBuHe0VwKV1tDsws55zPQo8evRhijR/EydOZPXq1Xz88cfEYrGqRygCzJgxgzFjxrBixQrS09Np27YtS5YsCTliiSLV05eU1Jgllom2dOmRVx+bGQsXLkxSNCJ1UxkGEZEIUdIXEYkQJX0RkQhR0hcRiRAlfRGRCFHSFxGJECV9kQTYunUrl1xyCX379qVfv34sWLCg1hiVVpbmQOv0JTXd0T7B59tzxO6WLVvy85//nEGDBrF3714GDx5MdnY2ffv2rRqj0srJdfrLG+vt+9slmUmLo7nRlb5IAnTv3p1Bg+IPiTvllFPIyMigvLxmPUGVVpbmQElfJMFKS0vZsGEDQ4YMqdFeX2llkWRS0hdJoE8//ZSrr76a+++/n1NPPTXscERqUdIXSZCDBw9y9dVXM2nSJK666qpa/SqtLM2Bkr5IArg706ZNIyMjg9tvv73OMSqtLM2BVu+IJMDrr7/OE088wYABA8jMzATgJz/5CX/5y18AlVaW5kNJX1JTA0ssE+2iiy4i/iiJ+qm0sjQHmt4REYkQJX0RkQhR0hcRiRDN6YtInQbkDai3760pbyUxEkkkXemLiESIkr6ISIQo6YskwP79+7ngggs499xz6devH/Pmzas15osvvuCaa64hPT2dIUOGUFpamvxAJfI0py8p6Ujz0ceioTnsE088kZdeeomTTz6ZgwcPctFFFzF69GiGDh1aNWbx4sV07NiRLVu2kJ+fz+zZs1m2bFlC4xRpiK70RRLAzDj55JOBeA2egwcPYmY1xhQUFDBlyhQAxo8fz6pVqxq8oUsk0ZT0RRLk8OHDZGZm0q1bN7Kzs49YWrlly5a0b9+eioqKMEKVCFPSF0mQFi1asHHjRsrKyli3bh1vv/122CGJ1KI5fZEE69ChA5dccgkrV66kf//+Ve2VpZVjsRiHDh1iz549dO7cOcRIpU5HetRmkms6NYVGX+mbWQsz22Bmzwb7vcxsrZltMbNlZtY6aD8x2N8S9Pesdo4fBe3vm9llCf80IiHZsWMHu3fvBuDzzz+nqKiIPn361BiTk5NDXl4eAMuXL2fEiBG15v1FmtrRTO/cCmyutn8PcJ+7pwO7gGlB+zRgV9B+XzAOM+sLXAv0A0YBD5pZi68WvkjzsG3bNi655BIGDhzI+eefT3Z2NmPHjmXu3LkUFhYCMG3aNCoqKkhPT+fee+8lNzc35Kgliho1vWNmMeBy4C7gdotfnowArguG5AF3AL8Crgi2AZYDvwzGXwHku/sXwIdmtgW4AHgjIZ9EpJpklwkYOHAgGzZsqNV+5513Vm23adOGp556KplhidTS2Cv9+4EfAn8P9jsDu939ULBfBlQ+9y0N2AoQ9O8Jxle113FMFTObbmbFZla8Y8eOxn8SERFpUINJ38zGAh+5+/okxIO7L3L3LHfP6tq1azLeUkQkMhozvfNNIMfMxgBtgFOBBUAHM2sZXM3HgPJgfDnQAygzs5ZAe6CiWnul6seIiEgSNHil7+4/cveYu/ck/kPsS+4+CXgZGB8MmwIUBNuFwT5B/0sev+2wELg2WN3TC+gNrEvYJxERkQZ9lXX6s4F8M/sPYAOwOGhfDDwR/FC7k/gXBe7+jpk9CbwLHAJmuvvhr/D+IiJylI4q6bv7amB1sP0B8dU3Xx6zH/h2PcffRXwFkIiIhEBlGEQS6PDhw5x33nmMHTu2Vp9KK0tzoDIMkpI298lI6Pky3tvc8CBgwYIFZGRk8Mknn9TqU2nl5qPnnOfq7Sttk8RAQqArfZEEKSsr47nnnuOmm26qs1+llaU5UNIXSZDbbruNn/70p5xwQt3/Wqm0sjQHSvoiCfDss8/SrVs3Bg8eHHYoIkekpC+SAK+//jqFhYX07NmTa6+9lpdeeonvfOc7NcZUllYGVFpZQqOkL5IAd999N2VlZZSWlpKfn8+IESP4zW9+U2OMSitLc6DVOyJNaO7cuWRlZZGTk8O0adO4/vrrSU9Pp1OnTuTn54cdnkSQkr6kpMYusWwKw4cPZ/jw4YBKK0vzo+kdEZEIUdIXEYkQJX0RkQhR0hcRiRAlfRGRCFHSFxGJECV9kQTp2bMnAwYMIDMzk6ysrFr97s4tt9xCeno6AwcO5M033wwhSok6rdOXlLRwxksJPd/Mh0Y0atzLL79Mly5d6ux7/vnnKSkpoaSkhLVr13LzzTezdu3aRIYp0iBd6YskSUFBAZMnT8bMGDp0KLt372bbtm1hhyURo6QvkiBmxsiRIxk8eDCLFi2q1V+9tDJALBajvLw8mSGKaHpHJFFee+010tLS+Oijj8jOzqZPnz4MGzYs7LBEatCVvkiCpKWlAdCtWzfGjRvHunXravVXllaG+JO2Ko8RSRYlfZEE+Oyzz9i7d2/V9osvvkj//v1rjMnJyeHxxx/H3VmzZg3t27ene/fuYYQrEabpHZEE2L59O+PGjQPiD0i57rrrGDVqFA899BAAM2bMYMyYMaxYsYL09HTatm3LkiVLwgxZIkpJX1JSY5dYJspZZ53FH//4x1rtM2bMqNo2MxYuXJjMsERq0fSOiEiEKOmLiESIkr6ISIQ0mPTNrI2ZrTOzP5rZO2Y2P2jvZWZrzWyLmS0zs9ZB+4nB/pagv2e1c/0oaH/fzC5rsk8lIiJ1asyV/hfACHc/F8gERpnZUOAe4D53Twd2AdOC8dOAXUH7fcE4zKwvcC3QDxgFPGhmLRL4WUREpAENJn2P+zTYbRX8OTACWB605wFXBttXBPsE/ZeamQXt+e7+hbt/CGwBLkjEhxARkcZp1Jy+mbUws43AR0AR8Cdgt7sfCoaUAZW3FqYBWwGC/j1A5+rtdRxT/b2mm1mxmRXv2LHjqD+QSFh2797N+PHj6dOnDxkZGbzxxhs1+lVaWZqDRq3Td/fDQKaZdQCeAfo0VUDuvghYBJCVleVN9T6S2n5+zdiEnu9flz3b4Jhbb72VUaNGsXz5cg4cOMC+fftq9KdSaeXNfTLqbM94b3OSI5GjdVSrd9x9N/AycCHQwcwqvzRiQGW5wHKgB0DQ3x6oqN5exzEix7U9e/bwyiuvMG1a/Ket1q1b06FDhxpjVFpZmoPGrN7pGlzhY2YnAdnAZuLJf3wwbApQEGwXBvsE/S+5uwft1ware3oBvYGaFalEjlMffvghXbt25cYbb+S8887jpptu4rPPPqsxRqWVpTlozJV+d+BlM9sE/AEocvdngdnA7Wa2hfic/eJg/GKgc9B+OzAHwN3fAZ4E3gVWAjODaSOR496hQ4d48803ufnmm9mwYQPt2rUjNzc37LBEamlwTt/dNwHn1dH+AXWsvnH3/cC36znXXcBdRx+mSPMWi8WIxWIMGTIEgPHjx9dK+lEvrXyk31ka85uJJIbuyBVJgNNPP50ePXrw/vvvA7Bq1Sr69u1bY4xKK0tzoCqbIgnyi1/8gkmTJnHgwAHOOusslixZotLK0uwo6UtKCmO6IDMzk+Li4hptKq3ctFa9dHb9nfa75AVyHFHSF5GEWTjjpbBDkAZoTl9EJEKU9EVEIkRJX0QkQpT0RUQiRElfRCRClPRFEuD9998nMzOz6u/UU0/l/vvvrzFGpZWlOdCSTUlJZXNeTej5YrkXH7H/nHPOYePGjQAcPnyYtLQ0xo0bV2NMKpVWluOXkr5Igq1atYqzzz6bM888s0Z7faWVVYrhyO644456+y4elrw4UoWmd0QSLD8/n4kTJ9ZqV2llaQ6U9EUS6MCBAxQWFvLtb9dZaFYkdEr6Ign0/PPPM2jQIE477bRafVEvrSzNg5K+SAItXbq0zqkdUGllaR70Q65Ignz22WcUFRXx61//uqpNpZWluVHSl5TU0BLLptCuXTsqKipqtKm0cuMccYltm+TFEQWa3hERiRAlfRGRCFHSFxGJECV9EZEIUdIXEYkQJX0RkQjRks0E6DnnuXr7SnMvT2IkEqb77ruPRx55BDNjwIABLFmyhDZt/rHe8IsvvmDy5MmsX7+ezp07s2zZMnr27BlewBJJSvqSko5UmbEpzldeXs4DDzzAu+++y0knncSECRPIz8/nhhtuqBqzePFiOnbsyJYtW8jPz2f27NksW7YsoXGKNERJv6nd0f4IfXuSF4c0uUOHDvH555/TqlUr9u3bx9e+9rUa/QUFBVVfHuPHj2fWrFm4O2YWQrQSVQ3O6ZtZDzN72czeNbN3zOzWoL2TmRWZWUnw2jFoNzN7wMy2mNkmMxtU7VxTgvElZjal6T6WSHKlpaXx/e9/nzPOOIPu3bvTvn17Ro4cWWNM9dLKLVu2pH379rXu4BVpao35IfcQ8K/u3hcYCsw0s77AHGCVu/cGVgX7AKOB3sHfdOBXEP+SAOYBQ4ALgHmVXxQix7tdu3ZRUFDAhx9+yF//+lc+++wzfvOb34QdlkgtDSZ9d9/m7m8G23uBzUAacAWQFwzLA64Mtq8AHve4NUAHM+sOXAYUuftOd98FFAGjEvlhRMLy3//93/Tq1YuuXbvSqlUrrrrqKn7/+9/XGFO9tPKhQ4fYs2cPnTt3DiNcibCjWrJpZj2B84C1wGnuvi3o+htQWUA8Ddha7bCyoK2+dpHj3hlnnMGaNWvYt28f7s6qVavIyMioMSYnJ4e8vPh10vLlyxkxYoTm8yXpGp30zexk4HfAbe7+SfU+d3fAExGQmU03s2IzK96xY0ciTinS5IYMGcL48eMZNGgQAwYM4O9//zvTp09n7ty5FBYWAjBt2jQqKipIT0/n3nvvJTc3N+SoJYoatXrHzFoRT/i/dfeng+btZtbd3bcF0zcfBe3lQI9qh8eCtnJg+JfaV3/5vdx9EbAIICsrKyFfJBI9iV6y2Rjz589n/vz5NdruvPPOqu02bdrw1FNPJTsskRoas3rHgMXAZne/t1pXIVC5AmcKUFCtfXKwimcosCeYBnoBGGlmHYMfcEcGbSIikiSNudL/JnA98JaZbQza/g+QCzxpZtOAPwMTgr4VwBhgC7APuBHA3Xea2Y+BPwTj7nT3nYn4ECIi0jgNJn13fw2o79emS+sY78DMes71KPDo0QQozdvpL2+st+9vl2QmLQ4RaRwVXBMRiRAlfRGRCFHSFxGJEBVcC9GAvAH19r015a0kRiKJsGDBAh5++GHcne9+97vcdtttNfrdnVtvvZUVK1bQtm1bHnvsMQYNGlT3yUSaiJK+pKRVL52d0PNdOuJPR+x/++23efjhh1m3bh2tW7dm1KhRjB07lvT09Koxzz//PCUlJZSUlLB27Vpuvvlm1q5dm9A4RRqipC/hSLGS05s3b2bIkCG0bdsWgG9961s8/fTT/PCHP6waU1BQwOTJkzEzhg4dyu7du9m2bRvdu3cPK2yJIM3piyRA//79efXVV6moqGDfvn2sWLGiqrhapeqllQFisRjl5eXJDlUiTlf6IgmQkZHB7NmzGTlyJO3atSMzM5MWLVqEHZZILbrSF0mQadOmsX79el555RU6duzI17/+9Rr91UsrA5SVlZGWpkKzklxK+iIJ8tFH8ZqDf/nLX3j66ae57rrravTn5OTw+OOP4+6sWbOG9u3baz5fkk7TOyIJcvXVV1NRUUGrVq1YuHAhHTp04KGHHgJgxowZjBkzhhUrVpCenk7btm1ZsmRJyBFLFCnpS0pqaIllU3j11Vdrtc2YMaNq28xYuHBhMkMSqUVJX5pMzznP1dtX2iaJgYhIFc3pi4hEiJK+iEiEKOmLiESIkr6ISIQo6YuIRIiSvkiCTJ06lW7dutG/f/+qtp07d5KdnU3v3r3Jzs5m165ddR6bl5dH79696d27N3l5eckKWSJISzYlJR3p2b3HojHP+73hhhuYNWsWkydPrmrLzc3l0ksvZc6cOeTm5pKbm8s999xT47idO3cyf/58iouLMTMGDx5MTk4OHTt2TOhnEAElfWmEI9amt98lL5BmbtiwYZSWltZoKygoYPXq1QBMmTKF4cOH10r6L7zwAtnZ2XTq1AmA7OxsVq5cycSJE5MRtkSMpndEmtD27dur6uucfvrpbN++vdYYlVyWZNKVfjO1uU9GvX0Z721OYiSSKGaGmYUdhkScrvRFmtBpp53Gtm3bANi2bRvdunWrNUYllyWZlPRFmlBOTk7Vapy8vDyuuOKKWmMuu+wyXnzxRXbt2sWuXbt48cUXueyyy5IdqkSEpneOQwtnvFRv38yHRiQxEqlu4sSJrF69mo8//phYLMb8+fOZM2cOEyZMYPHixZx55pk8+eSTABQXF/PQQw/xyCOP0KlTJ/793/+d888/H4C5c+dW/agrkmhK+pKSGrPEMtGWLl1aZ/uqVatqtWVlZfHII49U7U+dOpWpU6c2WWwilRpM+mb2KDAW+Mjd+wdtnYBlQE+gFJjg7rss/ivVAmAMsA+4wd3fDI6ZAvxbcNr/cHfdgdIEfn7N2Hr7ruk1u96+WO7FTRGOiDQzjbnSfwz4JfB4tbY5wCp3zzWzOcH+bGA00Dv4GwL8ChgSfEnMA7IAB9abWaG71317oiTdHXfcUW/fxcOSF4eINK0Gf8h191eAnV9qvgKovFLPA66s1v64x60BOphZd+AyoMjddwaJvggYlYD4RUTkKBzr6p3T3H1bsP034LRgOw3YWm1cWdBWX7uIiCTRV16y6e5OfMomIcxsupkVm1nxjh07EnVaERHh2JP+9mDahuD1o6C9HOhRbVwsaKuvvRZ3X+TuWe6e1bVr12MMT0RE6nKsSb8QmBJsTwEKqrVPtrihwJ5gGugFYKSZdTSzjsDIoE0kZdRVWvmpp56iX79+nHDCCRQXF9d77MqVKznnnHNIT08nNzc3GeFKRDVmyeZSYDjQxczKiK/CyQWeNLNpwJ+BCcHwFcSXa24hvmTzRgB332lmPwb+EIy7092//OOwSML0nPNcQs9Xmnt5g2PqKq3cv39/nn76af7lX/6l3uMOHz7MzJkzKSoqIhaLcf7555OTk0Pfvn0TErtIdQ0mfXevr77rpXWMdWBmPed5FHj0qKITOY7UVVo5I6P+wnmV1q1bR3p6OmeddRYA1157LQUFBUr60iRUe0ckZCqtLMmkpC8iEiFK+iIhU2llSSYlfZGQnX/++ZSUlPDhhx9y4MAB8vPzycnJCTssSVFK+iIJMnHiRC688ELef/99YrEYixcv5plnniEWi/HGG29w+eWXV9XJ/+tf/8qYMWMAaNmyJb/85S+57LLLyMjIYMKECfTr1y/MjyIpTKWVJSU1ZollotVXWnncuHG12r72ta+xYsWKqv0xY8ZUfQmINCVd6YuIRIiSvohIhCjpi4hEiJK+iEiEKOmLiESIkr6ISIQo6YskSF2llX/wgx/Qp08fBg4cyLhx49i9e3edx6q0siSL1ulLarqjfYLPt6fBIXWVVs7Ozubuu++mZcuWzJ49m7vvvpt77rmnxnEqrSzJpCt9kQQZNmwYnTp1qtE2cuRIWraMX1sNHTqUsrKyWsdVL63cunXrqtLKIk1BSV8kSR599FFGjx5dq12llSWZlPRFkuCuu+6iZcuWTJo0KexQJOI0py/SxB577DGeffZZVq1ahZnV6ldpZUkmXemLNKGVK1fy05/+lMLCQtq2bVvnGJVWlmRS0hdJkLpKK8+aNYu9e/eSnZ1NZmYmM2bMAFRaWcKj6R1JTY1YYplodZVWnjZtWp1jVVpZwqIrfRGRCFHSFxGJECV9EZEIUdKXlOHuYYfQpFL980lyKOlLSmjTpg0VFRUpmxjdnYqKCtq0aRN2KHKc0+odSQmxWIyysjJ27NgRdihNpk2bNsRisbDDkONc0pO+mY0CFgAtgEfcXXVk5Str1aoVvXr1CjsMkWYvqdM7ZtYCWAiMBvoCE81M9WNFRJIk2XP6FwBb3P0Ddz8A5ANXJDkGEZHISnbSTwO2VtsvC9pERCQJLJmrHcxsPDDK3W8K9q8Hhrj7rGpjpgPTg91zgPeTFmDq6wJ8HHYQInXQP5uJdaa7d62rI9k/5JYDPartx4K2Ku6+CFiUzKCiwsyK3T0r7DhEvkz/bCZPsqd3/gD0NrNeZtYauBYoTHIMIiKRldQrfXc/ZGazgBeIL9l81N3fSWYMIiJRlvR1+u6+AljR4EBpCpo2k+ZK/2wmSVJ/yBURkXCp9o6ISIQo6YuIRIiSvohIhCjpR4CZnWlm/xRsn2Rmp4Qdk4iEQ0k/xZnZd4HlwK+Dphjwn6EFJBIws6+b2SozezvYH2hm/xZ2XKlOST/1zQS+CXwC4O4lQLdQIxKJexj4EXAQwN03Eb9hU5qQkn7q+yKoaAqAmbUEtE5XmoO27r7uS22HQokkQpT0U9//M7P/A5xkZtnAU8B/hRyTCMDHZnY2wUVIUJBxW7ghpT7dnJXizOwEYBowEjDiJTAecf0fLyEzs7OI34n7DWAX8CEwyd3/HGpgKU5JP8WZ2VXAc+7+RdixiFRnZi3c/bCZtQNOcPe9YccUBZreSX3/DPyPmT1hZmODOX2R5uBDM1sEDAU+DTuYqNCVfgSYWSvizyW+BrgIKKp8kI1IWMysLTCW+IqdQcCzQL67vxZqYClOST8igsQ/CrgRGObuXUIOSaSKmXUEFhCf028RdjypTNM7Kc7MRpvZY0AJcDXwCHB6qEGJBMzsW2b2ILAeaANMCDmklKcr/RRnZkuBZcDz+jFXmhMzKwU2AE8Che7+WbgRRYOSvoiEwsxOdfdPwo4japT0U5SZvebuF5nZXmregWuAu/upIYUmEWdmP3T3n5rZL6jj7nB3vyWEsCJDy/dSlLtfFLyqoqY0N5uD1+JQo4goJf0UZ2ZPuPv1DbWJJIu7V5YB2efuT1XvM7NvhxBSpGj1TurrV30nuDlrcEixiFT3o0a2SQLpSj9FmdmPgMpCa5U/lhlwgHi9E5FQmNloYAyQZmYPVOs6FVXZbHL6ITfFmdnd7q6rJ2k2zOxcIBO4E5hbrWsv8LK77wojrqhQ0o+A4G7H3sRvfgHA3V8JLyKR+FSju+vKPsk0vZPizOwm4Fbij0ncSLy41RvAiBDDkggzsyfdfQKwwczqWk48MKTQIkFX+inOzN4CzgfWuHummfUBfuLuV4UcmkSUmXV3921mdmZd/aqn37S0eif17Xf3/QBmdqK7vwecE3JMEmHuXvl0rI+BrUGSPxE4F/hraIFFhJJ+6iszsw7AfwJFZlYA6EpKmoNXgDZmlga8CFwPPBZqRBGg6Z0IMbNvAe2BldUfli4SBjN7090Hmdn3gJOC0gwb3T0z7NhSmX7ITXFm1qna7lvBq77ppTkwM7sQmET8Oc4AqqXfxDS9k/reBHYA/0O8pv4OoNTM3jQz3ZkrYbqN+B24z7j7O8GD0l8ON6TUp+mdFGdmDwPL3f2FYH8k8YepLAEWuPuQMOMTMbOTAdxdz8lNAl3pp76hlQkfwN1fBC509zXEV0yIhMLMBpjZBuAd4F0zW29m/Ro6Tr4azemnvm1mNhvID/avAbabWQvg7+GFJcKvgdvd/WUAMxsOPAx8I8SYUp6u9FPfdcTvxv1P4BmgR9DWAj2PVMLVrjLhA7j7aqBdeOFEg+b0I8LM2ukZpNKcmNkzxBcaPBE0fQcY7O7jwosq9elKP8WZ2TfM7F2CpxWZ2blm9mDIYYkATAW6Ak8DvwO6BG3ShHSln+LMbC0wHih09/OCtrfdvX+4kUlUmVkbYAaQTvzekUfd/WC4UUWHrvQjwN23fqnpcCiBiMTlAVnEE/5o4GfhhhMtWr2T+raa2TcAN7NWxMssb27gGJGm1NfdBwCY2WJgXcjxRIqu9FPfDGAmkAaUE39i0cwwA5LIq5rK0UNUkk9z+iKSVGZ2GKhcSWbAScA+/vEQlVPDii0KlPRTlJnNPUK3u/uPkxaMiDQbSvopysz+tY7mdsSrGXZ295OTHJKINANK+hFgZqcQ/wF3GvAk8HN3/yjcqEQkDFq9k8KCWvq3E69XngcMcvdd4UYlImFS0k9RZvYz4CpgETBAZWtFBDS9k7LM7O/AF8Ahaj4pSyskRCJMSV9EJEJ0c5aISIQo6YuIRIiSvqQsM/u/ZvaOmW0ys41mdtTPAzazTDMbU20/x8zmJDbSWu85PKiXJJJwWr0jKcnMLgTGEl+m+oWZdQFaH8OpMolXhFwB4O6FQGGi4qzHcOBT4PdN/D4SQfohV1KSmV0F3Oju//yl9sHAvcDJwMfADe6+zcxWA2uBS4AOxG9kWwtsIV4bphy4O9jOcvdZZvYY8DlwHtCN+ANAJgMXAmvd/YbgPUcC84k/iP5PQVyfmlkp8fsn/hloBXwb2A+sIV7+egfwPXd/NaH/40ikaXpHUtWLQA8z+x8ze9DMvhWUlv4FMN7dBwOPAndVO6alu18A3AbMc/cDwFxgmbtnuvuyOt6nI/Ek/7+J/xfAfUA/YEAwNdQF+Dfgn9x9EFBM/Ia5Sh8H7b8Cvu/upcBDwH3BeyrhS0JpekdSUnAlPRi4mPjV+zLgP4D+QJGZQfzh8NuqHfZ08Loe6NnIt/ovd3czewvY7u5vAZjZO8E5YkBf4PXgPVsDb9Tznlc1/hOKHBslfUlZ7n4YWA2sDpLyTOAdd7+wnkO+CF4P0/h/NyqP+Xu17cr9lsG5itx9YgLfU+SYaXpHUpKZnWNmvas1ZRJ/YljX4EdezKyVmfVr4FR7gVO+QihrgG+aWXrwnu3M7OtN/J4i9VLSl1R1MpBnZu+a2SbiUyxziT8k/h4z+yOwEWhoaeTLQN9gyec1RxuEu+8AbgCWBnG8AfRp4LD/AsYF73nx0b6nyJFo9Y6ISIToSl9EJEKU9EVEIkRJX0QkQpT0RUQiRElfRCRClPRFRCJESV9EJEKU9EVEIuT/A5hS3SWfDp77AAAAAElFTkSuQmCC\n",
       "datasetInfos": [],
       "metadata": {},
       "removedWidgets": [],
       "type": "image"
      }
     },
     "output_type": "display_data"
    }
   ],
   "source": [
    "# Group by month and sentiment\n",
    "grouped = pdf.groupby(['Month', 'Sentiment']).size().reset_index(name='count')\n",
    "\n",
    "# Pivot the table to have months as columns and sentiments as rows\n",
    "pivoted = grouped.pivot(index='Sentiment', columns='Month', values='count')\n",
    "\n",
    "# Create a bar plot\n",
    "pivoted.plot(kind='bar')\n",
    "plt.show()"
   ]
  },
  {
   "cell_type": "code",
   "execution_count": 0,
   "metadata": {
    "application/vnd.databricks.v1+cell": {
     "cellMetadata": {
      "byteLimit": 2048000,
      "rowLimit": 10000
     },
     "inputWidgets": {},
     "nuid": "62bdcb07-5c5e-4791-a580-2fcb3cbe9afd",
     "showTitle": false,
     "title": ""
    }
   },
   "outputs": [
    {
     "output_type": "display_data",
     "data": {
      "image/png": "[encoded data removed]"
     },
     "metadata": {
      "application/vnd.databricks.v1+output": {
       "addedWidgets": {},
       "arguments": {},
       "data": "data:image/png;base64,iVBORw0KGgoAAAANSUhEUgAAAX0AAAHPCAYAAAC/ewovAAAAOXRFWHRTb2Z0d2FyZQBNYXRwbG90bGliIHZlcnNpb24zLjUuMSwgaHR0cHM6Ly9tYXRwbG90bGliLm9yZy/YYfK9AAAACXBIWXMAAAsTAAALEwEAmpwYAAA8zUlEQVR4nO3deXxV1b3//9cnBEQEIxEIgRACEsjAECVRuXWo8A1RqFGhIpRfRaO1WuzFoVrafrGgVdFbr0MdKAU09mvB2VDgMojQynXAqOCEFIQoQ0SGMCuQZP3+yEl6Qk5IlJ1z4tnv5+NxHjl77bX3+ZxWPllZe+3PNuccIiLiDzGRDkBERMJHSV9ExEeU9EVEfERJX0TER5T0RUR8RElfRMRHYiMdgIgX3n333U6xsbEzgL5E52CmEviovLz82oEDB34V6WDk+0tJX6JCbGzsjM6dO6d37NixLCYmJupuPqmsrLTt27dnfPnllzOA/EjHI99f0TgiEn/q27Fjx73RmPABYmJiXMeOHfdQ9ZeMyHempC/RIiZaE361wPfTv1k5LvoPSCRImzZtTg/efuSRR0698sorkyMVj4jXlPRFwuDIkSORDkEEUNIXabS1a9e2Ovvss3v37t07Y9CgQb3XrVvXCmDkyJEpTz75ZPvqftV/LcybN6/dwIED+wwePLhXamqq5uKlWdDqHZEghw4diklLS8uo3t6zZ0+L3NzcPQA33HBD8tixY3f+8pe/3PnQQw+desMNN3R79dVXPzvW+T755JM277///sdpaWmHmzp2kcZQ0hcJcsIJJ1R++umnn1RvP/LII6cWFxefBPD++++f9D//8z+fAdxwww27pkyZktTQ+fr3739ACV+aE03viByn2NhYV1FRAUBFRQVHjhyx6n1t2rSpjFhgIiEo6Ys00umnn35gxowZ7QH+/Oc/x2dnZ+8H6N69++F33323DcDf/va3U8rLy+1Y5xGJJCV9kUaaNm3aF3/961879O7dO2P27NmnPv7445sAfvnLX25/44032vXp0yfjjTfeOOnEE0/U6F6aLdPjEiUarF69umTAgAE7Ih1HU1u9enWHAQMGpEQ6Dvn+0khfRMRHlPRFRHxESV9ExEeU9EVEfERJX0TER5T0RUR8RElfxCMvvPDCySkpKX2Tk5P7/va3v+189P6vv/7ahg8f3jM5Oblv//7909auXdsqEnGKv6n2jkSllInzB3p5vpKpw9891v7y8nJuvvnm5EWLFv2rZ8+eRwYMGJA+cuTI3QMHDvymus/DDz/cIS4urvyLL774aPr06e1vueWWpPnz52/wMk6RhmikL+KB5cuXn9S9e/dDGRkZh1u3bu1GjBix64UXXjgluM+8efNOKSgo2Alw9dVXl73xxhvtKit1866El5K+iAc2bdrUqmvXrjXVNJOSkg5v2bKl1vTNtm3bWvXo0eMwQMuWLWnbtm3Ftm3b9Ne2hJWSvoiIjyjpi3igW7dutUb2mzdvrjXyB0hISDi8cePGVlD1+MT9+/e3SEhIKA93rOJvSvoiHjj//PMPlJSUtP70009bffPNN/bSSy/Fjxw5cndwn+HDh++eNWvWqQBPPvlk+0GDBu2LidE/QQkvzSeKeKBly5Y88MADX1x44YW9Kyoq+MlPfrIjOzv7m5tuuqlLTk7OgbFjx+6ZMGHCjpEjR/ZITk7uGxcXV/Hss88e81GLIk1BpZUlKqi0skjj6G9LEREfUdIXEfERJX0RER9R0hcR8RElfRERH1HSFxHxESV9EY9cfvnlKfHx8QNSU1MzQ+2vrKzkqquu6pacnNy3d+/eGStWrGgT7hhFdHOWRKfJcZ6WVmbynmOWVgYoKCjYMWHChK+uvvrqHqH2P//883EbNmxoXVJS8tGyZctO+sUvfpH8wQcffOppnCIN0EhfxCMXXXTR/o4dO9ZbS6eoqOiUsWPH7oyJiWHIkCEH9u7dG/v555+3DGeMIkr6ImFSWlraMiUlpaYIW2Ji4mElfQk3JX0RER9R0hcJk8TExCMlJSU15ZdLS0tbde/e/UgkYxL/UdIXCZP8/PzdzzzzzKmVlZUsXbr0pHbt2lUo6Uu4afWOiEcuvvjiHm+99Va7srKy2ISEhP4TJ07ceuTIEQO4/fbbt48aNWrP/Pnz47p37973xBNPrJwxY0ZJhEMWH1JpZYkKKq0s0jia3hER8RElfRERH1HSFxHxESV9EREfUdIXEfERJX0RER9R0hfxwPr161ueddZZvU877bTMXr16Zd51112dju6j0srSHOjmLIlK/Qr7eVpa+cNxHx6ztHLLli154IEHNp9zzjkHy8rKYk4//fSMYcOG7R04cOA31X1UWlmaA430RTzQvXv3I+ecc85BgPbt21eedtppX3/xxRetgvuotLI0B0r6Ih5bu3Ztq08++aTN+eefvz+4XaWVpTlQ0hfx0J49e2JGjBhx2tSpUzfFx8dXRjoekaMp6Yt45NChQzZ8+PDTLr/88l3jxo3bffR+lVaW5kBJX8QDlZWVjB49unvv3r2/mTx58rZQfVRaWZoDrd4R8cCSJUvavvLKK6empqZ+nZaWlgEwZcqULZ9//nkrUGllaT5UWlmigkorizSOpndERHxESV9ExEeU9EVEfERJX0TER5T0RUR8RElfRMRHlPRFPHDw4EHr169fep8+fTJ69eqVefPNN3c5us/XX39tw4cP75mcnNy3f//+aWvXrm0V6lwiTUk3Z0lUWpOW7mlp5fRP1xyztHLr1q3dihUr1sbFxVUeOnTIcnJy+ixdunTPkCFDDlT3efjhhzvExcWVf/HFFx9Nnz69/S233JI0f/78DV7GKdIQjfRFPBATE0NcXFwlwOHDh628vNzMrFafefPmnVJQULAT4Oqrry5744032lVWqiabhJeSvohHysvLSUtLy0hISBhw/vnn7x08ePCB4P3btm1r1aNHj8NQ9dCVtm3bVmzbtk1/bUtYKemLeCQ2NpZPP/30ky+++OKD995776R33nmndaRjEjmakr6Ixzp06FBx7rnn7vv73/8eF9yekJBweOPGja0Ajhw5wv79+1skJCSURyZK8SslfREPbN26NXbHjh0tAPbv32/Lli07OT09/ZvgPsOHD989a9asUwGefPLJ9oMGDdoXE6N/ghJemk8U8cCmTZtaXnXVVT0qKipwztkll1yya8yYMXtuuummLjk5OQfGjh27Z8KECTtGjhzZIzk5uW9cXFzFs88++1mk4xb/UWlliQoqrSzSOPrbUkTER5T0RUR8RElfRMRHlPRFRHxESV9ExEeU9EVEfERJX8RD5eXlpKenZ1xwwQW9jt6n0srSHOjmLIlKj13/mqellcdPG3zM0srV/vCHPyT06tXr6/3797c4ep9KK0tzoJG+iEc+++yzlosWLYr72c9+FvImMZVWluZASV/EI+PHj+92//33b66vno5KK0tzoKQv4oHZs2fHdejQofzcc889GOlYRI5FowwRD6xYsaLtkiVLTunatWvcoUOHYg4cOBBzySWX9CgqKtpY3ae6tPJpp512RKWVJVI00hfxwGOPPbZl27ZtH2zZsuXDp556asPZZ5+9Lzjhg0orS/Og/+JEmtBNN93U5ZlnnokDmDBhwo6ysrLY5OTkvn/60586//GPf9wc6fjEf1RaWaKCSiuLNI5G+iIiPqKkLyLiI0r6IiI+oqQvIuIjSvoiIj6ipC8i4iNK+iIe6tq1a7/evXtnpKWlZfTt2zf96P2VlZVcddVV3ZKTk/v27t07Y8WKFW0iEaf4l8owSFR64IofeVpa+dZn5zWqtDLAP/7xj38lJiaGLK/w/PPPx23YsKF1SUnJR8uWLTvpF7/4RfIHH3zwqXeRihybRvoiYVRUVHTK2LFjd8bExDBkyJADe/fujf38889bRjou8Q8lfRGPDRkyJDUzMzP9j3/8Y4ej95WWlrZMSUk5XL2dmJh4WElfwknTOyIeWrFixac9evQ4smXLltjBgwf3zszM/Oaiiy7aH+m4RKpppC/ioR49ehwB6Nq1a/nw4cN3v/nmmycF709MTDxSUlJS82zc0tLSVt27dz8S7jjFv5T0RTyyd+/emLKyspjq98uWLTu5f//+Xwf3yc/P3/3MM8+cWllZydKlS09q165dhZK+hJOmd0Q8snnz5tjLLrusF0BFRYWNHDly549//OO9999/f0eA22+/ffuoUaP2zJ8/P6579+59TzzxxMoZM2aURDRo8R2VVpaooNLKIo2j6R0RER9R0hcR8RElfRERH1HSFxHxESV9EREfUdIXEfERJX0Rj+zYsaPFhRde2LNHjx6ZPXv2zHz11Vdr3Y2rssrSHOjmLIlKmye+7mlp5aSp5zZYWvm6667rNnTo0L0LFy7c8M0339j+/ftrDapUVlmaAyV9EQ/s3Lmzxdtvv93uhRdeKAFo3bq1a926dUVwn/rKKqsMg4STpndEPLB27dpW8fHx5ZdffnlKenp6xhVXXNF97969tf59qayyNAdK+iIeKC8vtzVr1rQZP3789jVr1nzSpk2bykmTJnWOdFwiR1PSF/FASkrK4YSEhMODBw8+AHDFFVeUrV69utaFWpVVluZASV/EA8nJyeWdO3c+vHr16hMAFi9efHKfPn2+Ce6jssrSHOhCrohH/vSnP30xduzYnocPH7bk5ORDs2fPLlFZZWluVFpZooJKK4s0jqZ3RER8RElfRMRHlPRFRHxESV9ExEeU9EVEfERJX0TER5T0RTyyevXqE9LS0jKqX23btj39zjvv7BTcR+WVJdJ0c5ZEpcmTJ3taWnny5MkNllYeMGDAoU8//fQTgPLycjp37jxg9OjRu4P7qLyyRJpG+iJNYO7cuScnJycf6t279+Hg9vrKK0cqTvEfJX2RJjB79uz4H//4xzuPbld5ZYk0JX0Rj33zzTf26quvxv30pz8ti3QsIkdT0hfx2AsvvBCXkZFxsFu3buVH71N5ZYk0JX0Rj82ZMyd+1KhRu0LtU3lliTSt3hHx0N69e2NWrFhxcmFh4efVbSqvLM2JSitLVFBpZZHG0fSOiIiPKOmLiPiIkr6IiI8o6YuI+IiSvoiIjyjpi4j4iJK+iEemTJnSqVevXpmpqamZF198cY+DBw9a8P6vv/7ahg8f3jM5Oblv//7909auXduqvnOJNBXdnCVRaelrp3laWnnI4M+OWVp548aNLadPn56wdu3aj9q2beuGDRvWc8aMGfH/+Z//WVN07eGHH+4QFxdX/sUXX3w0ffr09rfcckvS/PnzN3gZp0hDNNIX8UhFRYUdOHAg5siRI3z99dcxSUlJtcorzJs375SCgoKdAFdffXXZG2+80a6ysjIywYpvKemLeKBHjx5Hxo8f/2WPHj36d+rUaUC7du0qRowYsTe4z7Zt21r16NHjMEDLli1p27ZtxbZt2/TXtoSVkr6IB7Zv395i/vz5p6xfv/7DL7/88oODBw/GPP744/GRjkvkaEr6Ih74+9//fnJycvKhLl26lJ9wwgnu0ksv3f3GG2+0De6TkJBweOPGja0Ajhw5wv79+1skJCTUKb8s0pSU9EU8kJKScvi9995ru2/fvpjKykpee+21dunp6d8E9xk+fPjuWbNmnQrw5JNPth80aNC+mBj9E5Tw0nyiiAcGDx584OKLLy7r379/emxsLJmZmQdvueWW7TfddFOXnJycA2PHjt0zYcKEHSNHjuyRnJzcNy4uruLZZ5/9LNJxi/+otLJEBZVWFmkc/W0pIuIjSvoiIj6ipC8i4iNK+iIiPqKkLyLiI0r6IiI+oqQv4pG77rqrU2pqamavXr0y77zzzk5H76+srOSqq67qlpyc3Ld3794ZK1asaBOJOMXfdHOWRKXOy1Z5Wlr5ywuyjlla+Z133mn99NNPd3zvvffWtG7duvL888/vPWLEiD19+/Y9VN3n+eefj9uwYUPrkpKSj5YtW3bSL37xi+QPPvjgUy/jFGmIRvoiHvjwww9PPP300/e3a9eusmXLlvzgBz/YN2fOnFOC+xQVFZ0yduzYnTExMQwZMuTA3r17Yz///POWEQpZfEpJX8QDWVlZX69cubLdl19+2WLfvn0xS5Ysidu0aVOtJ2OVlpa2TElJOVy9nZiYeFhJX8JN0zsiHjjjjDO+mTBhwpdDhgzpfeKJJ1ZmZmYebNGiRaTDEqlDI30Rj9x88807Pv744zXFxcVr27dvX9G7d+9aVTYTExOPlJSU1Iz+S0tLW3Xv3v1I3TOJNB0lfRGPbNmyJRZg3bp1rebPn3/Ktddeuyt4f35+/u5nnnnm1MrKSpYuXXpSu3btKpT0Jdw0vSPikfz8/NN2794dGxsb6x566KEvOnToUHH//fd3BLj99tu3jxo1as/8+fPjunfv3vfEE0+snDFjRkmEQxYfUmlliQoqrSzSOJreERHxESV9EREfadZz+h06dHApKSmRDkO+B+6//34++eST7pGOo6nt3LmT7OxszcnKMb377rs7nHMdQ+1r1kk/JSWF4uLiSIch3wNr1qwhPT090mE0OTPTvwlpkJl9Xt8+Te+IiPiIkr6IiI8o6Yt4pKCggE6dOtG3b9+atl27dpGbm0tqaiq5ubmUlZWFPLawsJDU1FRSU1MpLCwMV8jiQ816nX52drbT/KU0xtFz+ikT53t6/pKpwxvs889//pO2bdty5ZVX8tFHHwFw++23Ex8fz8SJE5k6dSplZWXcd999tY7btWsX2dnZFBcXY2YMHDiQd999l/bt29f5DL9cu5DjY2bvOueyQ+3TSF/EI+eddx7x8fG12oqKihg3bhwA48aN45VXXqlz3KJFi8jNzSU+Pp727duTm5vLwoULwxGy+JCSvkgT2rZtG4mJiQB07tyZbdu21emzZcsWunXrVrOdlJTEli1bwhaj+IuSvkiYmBlmFukwxOeU9EWaUEJCAqWlpQCUlpbSqVOdR+fStWtXNm3aVLO9efNmunbtGrYYxV+U9EWaUH5+fs1qnMLCQi655JI6ffLy8li8eDFlZWWUlZWxePFi8vLywh2q+ISSvohHxowZw6BBg1i7di1JSUnMnDmTiRMnsmTJElJTU3n11VeZOHEiAMXFxVx77bUAxMfHM2nSJHJycsjJyeGOO+6oc0FY6rd54us1L2mYlmxKVPDLUka/fM9vIzjZJ009N4KRNB9asikiIkAjkr6ZtTazlWa22sw+NrMpgfanzGyjma0KvLIC7WZmj5jZejP7wMzOCDrXODNbF3iNa7JvJSIiITWmyuYhYLBzbr+ZtQRWmNn/BPbd5px74aj+FwGpgddZwBPAWWYWD/weyAYc8K6ZzXXOhb4vXUREPNfgSN9V2R/YbBl4HetCwCXA04Hj3gJOMbNEIA9Y4pzbFUj0S4ALjy98ERH5Nho1p29mLcxsFfAVVYn77cCuuwNTOA+a2QmBtq7ApqDDNwfa6msXEZEwaVTSd85VOOeygCTgTDPrC/wGSANygHjg114EZGbXmVmxmRVv377di1OKiEjAt1q945zbDSwDLnTOlQamcA4BTwJnBrptAboFHZYUaKuv/ejPmO6cy3bOZXfsGPJpXyLNUqjSys8//zyZmZnExMQc84lXCxcupE+fPvTq1YupU6eGI1zxqQYv5JpZR+CIc263mZ0I5AL3mVmic67UqoqJXAp8FDhkLnCjmc2h6kLunkC/RcA9ZlZdL3YoVX8tiHhvcpzH59vTYJerrrqKG2+8kSuvvLKmrW/fvrz00kv8/Oc/r/e4iooKxo8fz5IlS0hKSiInJ4f8/HwyMjI8Cd2vlr52Wq3tIYM/i1AkzUtjVu8kAoVm1oKqvwyec87NM7PXAr8QDFgFXB/ovwAYBqwHDgJXAzjndpnZXcA7gX53Oud2efZNRCLsvPPOo6SkpFZbY26kWrlyJb169aJnz54AjB49mqKiIiX9JnT08xYa87yEaNFg0nfOfQCcHqJ9cD39HTC+nn2zgFnfMkaRqBaqtPLbb799jCOkPpMnT655f+55kYujOdMduSIiPqKkLxJhKq0s4aSkLxJhOTk5rFu3jo0bN3L48GHmzJlDfn5+pMOSKKWkL+KRUKWVX375ZZKSknjzzTcZPnx4TZ38rVu3MmzYMABiY2N59NFHycvLIz09nVGjRpGZmRnJryJRrDGrd0S+fxqxxNJrs2fPDtl+2WWX1Wnr0qULCxYsqNkeNmxYzS8BkaakpC8i3ysPXPGjWttX9PCkGIBvaHpHRMRHlPRFRHxESV9ExEeU9EVEfERJX0TER5T0RTwSqrTybbfdRlpaGv379+eyyy5j9+7dIY9VaeVje+z612pecny0ZFOiUr/Cfp6e78NxHzbYJ1Rp5dzcXO69915iY2P59a9/zb333st9991X6ziVVpZw0khfxCPnnXce8fHxtdqGDh1KbGzV2Orss89m8+bNdY4LLq3cqlWrmtLKIk1BSV8kTGbNmsVFF11Upz1UaeUtW+o8VE7EE5reEQmDu+++m9jYWMaOHRvpUHyr87JVNe9bRy6MiFPSF2liTz31FPPmzWPp0qVUPV20NpVWlnDS9I5IE1q4cCH3338/c+fOpU2bNiH7qLSyhJOSvohHQpVWvvHGG9m3bx+5ublkZWVx/fVVj5JWaWWJFE3vSFRqzBJLr4UqrXzNNdeE7KvSyhIpDY70zay1ma00s9Vm9rGZTQm09zCzt81svZk9a2atAu0nBLbXB/anBJ3rN4H2tWaW12TfSkREQmrM9M4hYLBzbgCQBVxoZmcD9wEPOud6AWVA9ZDmGqAs0P5goB9mlgGMBjKBC4HHzayFh99FREQa0GDSd1X2BzZbBl4OGAy8EGgvBC4NvL8ksE1g/xCrWrJwCTDHOXfIObcRWA+c6cWXEBGRxmnUhVwza2Fmq4CvgCXAZ8Bu51x5oMtmoHqNWVdgE0Bg/x7g1OD2EMeIiEgYNCrpO+cqnHNZQBJVo/O0pgrIzK4zs2IzK96+fXtTfYyIiC99q9U7zrndZrYMGAScYmaxgdF8ElB93/gWoBuw2cxigThgZ1B7teBjgj9jOjAdIDs72327ryMi8h1Mjgt6vydycYRBY1bvdDSzUwLvTwRygTXAMuDHgW7jgOoKUXMD2wT2v+acc4H20YHVPT2AVGClR99DJOJClVaeNGkS/fv3Jysri6FDh7J169aQxxYWFpKamkpqaiqFhYUh+4h4oTEj/USgMLDSJgZ4zjk3z8w+AeaY2R+A94GZgf4zgb+a2XpgF1UrdnDOfWxmzwGfAOXAeOdchbdfR6TKmrR0T8+X/umaBvuEKq182223cddddwHwyCOPcOeddzJt2rRax+3atYspU6ZQXFyMmTFw4EDy8/Np3769p99BBBqR9J1zHwCnh2jfQIjVN865b4DL6znX3cDd3z5MkebvvPPOo6SkpFbbySefXPP+wIEDIWvvLFq0iNzc3JqyzLm5uSxcuJAxY8Y0abziT7ojV6SJ/e53v+Ppp58mLi6OZcuW1dmv0soSTqq9I9LE7r77bjZt2sTYsWN59NFHIx2O+JySvkiYjB07lhdffLFOu0orSzgp6Ys0oXXr1tW8LyoqIi2t7i0ueXl5LF68mLKyMsrKyli8eDF5eSpNJU1Dc/oiHhkzZgzLly9nx44dJCUlMWXKFBYsWMDatWuJiYmhe/fuNSt3iouLmTZtGjNmzCA+Pp5JkyaRk5MDwB133FHnWbsiXlHSl6jUmCWWXvs2pZWzs7OZMWNGzXZBQQEFBQVNFptINU3viIj4iJK+iIiPKOmLiPiIkr6IiI8o6YuI+IiSvoiIjyjpi3gkVGnlag888ABmxo4dO0Ieq9LKEi5apy9R6bHrX/P0fOOnDW6wT6jSygCbNm1i8eLFJCcnhzxOpZUlnDTSF/HIeeedF/JO2ptvvpn7778/ZFllqF1auX379jWllUWagpK+SBMqKiqia9euDBgwoN4+Kq0s4aTpHZEmcvDgQe655x4WL14c6VBEamikL9JEPvvsMzZu3MiAAQNISUlh8+bNnHHGGXz55Ze1+qm0soSTkr5IE+nXrx9fffUVJSUllJSUkJSUxHvvvUfnzp1r9VNpZQknJX0Rj4wZM4ZBgwaxdu1akpKSmDlzZr19i4uLufbaawFqlVbOyclRaWWqHmwf/BLvNDinb2bdgKeBBMAB051zD5vZZOBnwPZA19865xYEjvkNcA1QAfync25RoP1C4GGgBTDDOTfV268jUqUxSyy9Fqq0crDgh6artLJESmMu5JYDtzrn3jOzdsC7ZrYksO9B59wfgzubWQYwGsgEugCvmlnvwO7HgFxgM/COmc11zn3ixRcREZGGNZj0nXOlQGng/T4zWwMc6yrTJcAc59whYKOZrQfODOxb75zbAGBmcwJ9lfRFRMLkW83pm1kKcDrwdqDpRjP7wMxmmVn17YNdgU1Bh20OtNXXfvRnXGdmxWZWvH379qN3i4jIcWh00jeztsCLwE3Oub3AE8BpQBZVfwk84EVAzrnpzrls51x2x44dvTiliIgENOrmLDNrSVXCf8Y59xKAc25b0P6/APMCm1uAbkGHJwXaOEa7iIiEQYMjfasqGDITWOOc+++g9sSgbpcBHwXezwVGm9kJZtYDSAVWAu8AqWbWw8xaUXWxd643X0NERBqjMdM7PwB+Cgw2s1WB1zDgfjP70Mw+AC4AbgZwzn0MPEfVBdqFwHjnXIVzrhy4EVgErAGeC/QViQqhSitPnjyZrl27kpWVRVZWFgsWLAh57MKFC+nTpw+9evVi6lStZJam05jVOyuAUOUBQ//XW3XM3cDdIdoXHOs4Ea88cMWPPD3frc/Oa7BPfaWVb775Zn71q1/Ve1xFRQXjx49nyZIlJCUlkZOTQ35+PhkZGccdt8jRdEeuiEfqK63ckJUrV9KrVy969uxJq1atGD16NEVFRU0QoYiSvkiTe/TRR+nfvz8FBQWUlZXV2a/SyhJOSvoiTeiGG27gs88+Y9WqVSQmJnLrrbdGOiTxOSV9kSaUkJBAixYtiImJ4Wc/+xkrV66s00ellSWclPRFmlBpaWnN+5dffjnkQ9NzcnJYt24dGzdu5PDhw8yZM4f8/Pxwhik+oidniXhkzJgxLF++nB07dpCUlMSUKVNYvnw5q1atwsxISUnhz3/+MwBbt27l2muvZcGCBcTGxvLoo4+Sl5dHRUUFBQUFZGZmRvjbSLRS0peo1Jglll4LVVr5mmuuCdm3S5cutdbsDxs2jGHDhjVZbCLVNL0jIuIjSvoiIj6ipC8i4iNK+iIiPqKkLyLiI0r6IiI+oqQv4pFQpZUB/vSnP5GWlkZmZia33357yGNVWlnCRev0JSptnvi6p+dLmnpug31ClVZetmwZRUVFrF69mhNOOIGvvvqqznEqrSzhpJG+iEdClVZ+4oknmDhxIieccAIAnTp1qnOcSitLOCnpizShf/3rX7z++uucddZZnH/++bzzzjt1+qi0soSTpndEmlB5eTm7du3irbfe4p133mHUqFFs2LCBqkdPi4Sfkr5IE0pKSmLEiBGYGWeeeSYxMTHs2LGDjh071vRRaeXmpV9hv1rbH477MEKRNI0Gp3fMrJuZLTOzT8zsYzObEGiPN7MlZrYu8LN9oN3M7BEzW29mH5jZGUHnGhfov87MxjXd1xJpHi699FKWLVsGVE31HD58mA4dOtTqo9LKEk6NmdMvB251zmUAZwPjzSwDmAgsdc6lAksD2wAXAamB13XAE1D1SwL4PXAWcCbw++pfFCLRYMyYMQwaNIi1a9eSlJTEzJkzKSgoYMOGDfTt25fRo0dTWFiImbF169aaqprBpZXT09MZNWqUSitLk2lwesc5VwqUBt7vM7M1QFfgEuCHgW6FwHLg14H2p51zDnjLzE4xs8RA3yXOuV0AZrYEuBCoW49W5Dg1Zoml10KVVgb4f//v/9VpU2lliZRvtXrHzFKA04G3gYTALwSAL4GEwPuuwKagwzYH2uprFxGRMGl00jeztsCLwE3Oub3B+wKjeudFQGZ2nZkVm1nx9u3bvTiliIgENCrpm1lLqhL+M865lwLN2wLTNgR+Vt9quAXoFnR4UqCtvvZanHPTnXPZzrns4BUOIiJy/BqzeseAmcAa59x/B+2aC1SvwBkHFAW1XxlYxXM2sCcwDbQIGGpm7QMXcIcG2kREJEwas07/B8BPgQ/NbFWg7bfAVOA5M7sG+BwYFdi3ABgGrAcOAlcDOOd2mdldQPUtiXdWX9QVEZHwaMzqnRVAfbcPDgnR3wHj6znXLGDWtwlQRES8o9o7Ih4JVVr5iiuuICsri6ysLFJSUsjKygp5rEorS7ioDINEpcmTJ4f9fKFKKz/77LM172+99Vbi4uLqHKfSyhJOGumLeCRUaeVqzjmee+45xowZU2efSitLOCnpi4TB66+/TkJCAqmpqXX2qbSyhJOSvkgYzJ49O+QoXyTcNKcv0sTKy8t56aWXePfdd0PuV2llCSeN9EWa2KuvvkpaWhpJSUkh96u0soSTkr6IR0KVVgaYM2dOnakdlVaWSNH0jkQlr5dsNkZ9pZWfeuqpOm0qrSyRopG+iIiPKOmLiPiIkr6IiI8o6YuI+IiSvoiIjyjpi4j4iJK+iEdClVZetWoVZ599NllZWWRnZ7Ny5cqQxxYWFpKamkpqaiqFhYXhCll8SOv0JSotfe00T883ZPBnDfYJVVr59ttv5/e//z0XXXQRCxYs4Pbbb2f58uW1jtu1axdTpkyhuLgYM2PgwIHk5+fTvn17T7+DCGikL+KZUKWVzYy9e/cCsGfPHrp06VLnuEWLFpGbm0t8fDzt27cnNzeXhQsXhiVm8R+N9EWa0EMPPUReXh6/+tWvqKys5I033qjTR6WVJZw00hdpQk888QQPPvggmzZt4sEHH+Saa66JdEjyLa1JS695RYMGk76ZzTKzr8zso6C2yWa2xcxWBV7Dgvb9xszWm9laM8sLar8w0LbezCZ6/1VEmp/CwkJGjBgBwOWXXx7yQq5KK0s4NWak/xRwYYj2B51zWYHXAgAzywBGA5mBYx43sxZm1gJ4DLgIyADGBPqKRLUuXbrwj3/8A4DXXnst5JOz8vLyWLx4MWVlZZSVlbF48WLy8vLq9BPxQoNz+s65f5pZSiPPdwkwxzl3CNhoZuuBMwP71jvnNgCY2ZxA30++fcgizdOYMWNYvnw5O3bsICkpiSlTpvCXv/yFCRMmUF5eTuvWrZk+fToAxcXFTJs2jRkzZhAfH8+kSZPIyckB4I477qj3Wbsix+t4LuTeaGZXAsXArc65MqAr8FZQn82BNoBNR7WfFeqkZnYdcB1AcnLycYQnftaYJZZeq6+0cqgnZmVnZzNjxoya7YKCAgoKCposNpFq3/VC7hPAaUAWUAo84FVAzrnpzrls51x2x44dvTqtiIjwHUf6zrlt1e/N7C/AvMDmFqBbUNekQBvHaBcRkTD5TknfzBKdc6WBzcuA6pU9c4G/mdl/A12AVGAlYECqmfWgKtmPBn5yPIFL+Gye+Hqt7aSp50YoEhE5Xg0mfTObDfwQ6GBmm4HfAz80syzAASXAzwGccx+b2XNUXaAtB8Y75yoC57kRWAS0AGY55z72+suIiMixNWb1zpgQzTOP0f9u4O4Q7QuABXWPkO+b4OfPRuJZtCLy3emOXBERH1HSF/FIqNLKq1evZtCgQfTr14+LL764pvja0RYuXEifPn3o1asXU6dODVfI4kMquCZNJmXi/FrbJVOHh+2zOy9b5en5vrwgq8E+oUorX3vttfzxj3/k/PPPZ9asWfzXf/0Xd911V63jKioqGD9+PEuWLCEpKYmcnBzy8/PJyNBN6+I9jfRFPBKqtPK//vUvzjvvPAByc3N58cUX6xy3cuVKevXqRc+ePWnVqhWjR4+mqKgoLDGL/2ikL+EzOS7o/Z7IxRFGmZmZFBUVcemll/L888/XKqxWLVRp5bffftuzGIL/4grnX1vSPGmkL8dl6Wun1XpJbbNmzeLxxx9n4MCB7Nu3j1atWkU6JPE5jfRFmlBaWhqLFy8GqqZ65s+fX6dPWEsrB/+1Bb75i0v+TUlfPBV8AbV15MJoNr766is6depEZWUlf/jDH7j++uvr9MnJyWHdunVs3LiRrl27MmfOHP72t79FIFrxA03viHhkzJgxDBo0iLVr15KUlMTMmTOZPXs2vXv3Ji0tjS5dunD11VcDsHXrVoYNq3r2UGxsLI8++ih5eXmkp6czatQoMjMzI/lVJIpppC8hPXDFj2reX9Hj1xGM5LtpzBJLr9VXWnnChAl12rp06cKCBf++QX3YsGE1vwREmpJG+iIiPqKkLyLiI0r6IiI+ojl9AeCx61+LdAgiEgZK+iLSLPQr7Ffz/rkIxhHtNL0jIuIjSvoiHti0aRMXXHABGRkZZGZm8vDDDwOwa9cucnNzSU1NJTc3l7KyspDHFxYWkpqaSmpqKoWFheEMXXxG0zsSlY4u63y8GipUFhsbywMPPMAZZ5zBvn37GDhwILm5uTz11FMMGTKEiRMnMnXqVKZOncp9991X69hdu3YxZcoUiouLMTMGDhxIfn4+7du39/Q7iIBG+iKeSExM5IwzzgCgXbt2pKens2XLFoqKihg3bhwA48aN45VXXqlz7KJFi8jNzSU+Pp727duTm5vLwoULwxm++EiDSd/MZpnZV2b2UVBbvJktMbN1gZ/tA+1mZo+Y2Xoz+8DMzgg6Zlyg/zozG9c0X0e+jTVp6TUv8U5JSQnvv/8+Z511Ftu2bSMxMRGAzp07s23btjr9Q5VW3rJlS9jiFX9pzEj/KeDCo9omAkudc6nA0sA2wEVAauB1HfAEVP2SAH4PnAWcCfy++heFSDTZv38/I0eO5KGHHuLkk0+utc/MMLMIRSZSpcGk75z7J7DrqOZLgOqrTYXApUHtT7sqbwGnmFkikAcscc7tcs6VAUuo+4tE5HvtyJEjjBw5krFjxzJixAgAEhISKC0tBaC0tJROnTrVOS6spZXF977rnH6Cc6408P5LICHwvisQ/GigzYG2+tpFooJzjmuuuYb09HRuueWWmvb8/Pya1TiFhYVccskldY7Ny8tj8eLFlJWVUVZWxuLFi8nLywtb7OIvx716xznnzMx5EQyAmV1H1dQQycnJXp1WmpngG3EAPhz3YYQi8cb//u//8te//pV+/fqRlZUFwD333MPEiRMZNWoUM2fOpHv37jz3XNVtR8XFxUybNo0ZM2YQHx/PpEmTyMnJAeCOO+6o86zdaFHr0Y2tf1J7Zw/9ew+H75r0t5lZonOuNDB981WgfQvQLahfUqBtC/DDo9qXhzqxc246MB0gOzvbs18m4i/hfhbsOeecg3Oh/3NdunRpnbbs7GxmzJhRs11QUEBBQUGTxVef4F++3/dfvNI433V6Zy5QvQJnHFAU1H5lYBXP2cCewDTQImCombUPXMAdGmgTEZEwanCkb2azqRqldzCzzVStwpkKPGdm1wCfA6MC3RcAw4D1wEHgagDn3C4zuwt4J9DvTufc0ReHRUSkiTWY9J1zY+rZNSREXweMr+c8s4BZ3yo6ERHxlMowiEhIweW2x08bHMFIxEtK+iICUPfO7B8+FplApEmp9o6IiI8o6Yt4oL7Sys8//zyZmZnExMRQXFxc7/ELFy6kT58+9OrVi6lTp4Yr7CbXedmqWi+JPE3vSHSaHOfx+fYcc3d9pZX79u3LSy+9xM9//vN6j62oqGD8+PEsWbKEpKQkcnJyyM/PJyMjw9vvIIJG+iKeqK+0cnp6On369DnmsStXrqRXr1707NmTVq1aMXr0aIqKio55jMh3paQv4rHg0sqNodLKEk5K+iIeOlZpZZHmQHP6Ih4JVVq5MaKttPLS107794a9GLlAJCSN9EU8UF9p5cbIyclh3bp1bNy4kcOHDzNnzhzy8/ObKFLxOyV9aRa+749urC6t/Nprr5GVlUVWVhYLFizg5ZdfJikpiTfffJPhw4fX1MnfunUrw4YNA6pW/jz66KPk5eWRnp7OqFGjyMzMjOTXkSim6R2JTg0ssfTasUorX3bZZXXaunTpwoIFC2q2hw0bVvNLQKQpaaQvIuIjGul7IPhpQBD+B3iIiDSWRvoiIj6ipC8i4iNK+iIiPqKkLyLiI0r6Ih6or7TybbfdRlpaGv379+eyyy5j9+7dIY+P1tLK0vxo9Y5EpX6F/Tw934fjPjzm/vpKK+fm5nLvvfcSGxvLr3/9a+69917uu+++WseqtLKE03ElfTMrAfYBFUC5cy7bzOKBZ4EUoAQY5ZwrMzMDHgaGAQeBq5xz7x3P54s0F4mJiSQmJgK1SysPHTq0ps/ZZ5/NCy+8UOfY4NLKQE1p5e9L0p88eXKt7XPPi0wc0jhejPQvcM7tCNqeCCx1zk01s4mB7V8DFwGpgddZwBOBnyJRpb7SyrNmzeKKK66o0z9UaeW33367yeP8Nh644ke1tm99dl6EIpHj1RRz+pcAhYH3hcClQe1PuypvAaeYWWITfL5IxNRXWvnuu+8mNjaWsWPHRjA6keNP+g5YbGbvmtl1gbYE51xp4P2XQELgfVdgU9CxmwNttZjZdWZWbGbF27dvP87wRMKnvtLKTz31FPPmzeOZZ56hapaztmgrrSzN2/Em/XOcc2dQNXUz3sxqzea5qgpUoatQ1cM5N905l+2cy+7YseNxhicSHvWVVl64cCH3338/c+fOpU2bNiGPVWllCafjSvrOuS2Bn18BLwNnAtuqp20CP78KdN8CdAs6PCnQFn0mx/37Jb5QX2nlG2+8kX379pGbm0tWVhbXX389oNLKEjnf+UKumZ0ExDjn9gXeDwXuBOYC44CpgZ/VT3ieC9xoZnOouoC7J2gaSMRTDS2x9Fp9pZXrK5es0soSKcezeicBeDkwRxkL/M05t9DM3gGeM7NrgM+BUYH+C6harrmeqiWbVx/HZ39vHL1ePNzJSEQk2HdO+s65DcCAEO07gSEh2h0w/rt+XrQIfjJU+qdrwvrZR/8Cei6sny7RZPPE1/+90Tpycci3pztyo13wdYUeyZGLQ0SaBdXeERHxESV9EREf0fROBD12/Wu1tsdPG/ydztN52aqa919ekHUcEYlItNNIP8qkTJxf6yXhUV9p5UmTJtG/f3+ysrIYOnQoW7duDXl8YWEhqamppKamUlhYGLKPiBc00peoFLxKygsNrbSqr7Tybbfdxl133QXAI488wp133sm0adNqHbtr1y6mTJlCcXExZsbAgQPJz8+nffv2nn4HEVDS/15a+tpptRvsxcgEIjXqK60cXB75wIEDIWvvLFq0iNzcXOLj4wHIzc1l4cKFjBkzJjzBi68o6Yt47OjSyr/73e94+umniYuLY9myZXX6hyqtvGVLdFYokcjTnP73xOTJk2te0nyFKq189913s2nTJsaOHcujjz4a4QjF75T0m5EHrvhRzUu+f+orrVxt7NixvPhi3ak4lVaWcFLSF/FAfaWV161bV/O+qKiItLS0Osfm5eWxePFiysrKKCsrY/HixeTl5YUlbvEfzemLeKC6tHK/fv3IysoC4J577mHmzJmsXbuWmJgYunfvXrNyp7i4mGnTpjFjxgzi4+OZNGkSOTk5ANxxxx01F3VFvKak30zVKmgFKmr1LYW7mN23La2cnZ3NjBkzarYLCgooKChosvhEqml6R0TER5T0RUR8RElfRMRHlPQlaoSaU48m0f79JDyU9CUqtG7dmp07d0ZtYnTOsXPnTlq31hV9OT5avSNRISkpic2bN7N9+/ZIh9JkWrduTVJSUqTDkO+5sCd9M7sQeBhoAcxwzk0NdwwSfVq2bEmPHj0iHYZIsxfW6R0zawE8BlwEZABjzCzj2EeJiIhXwj2nfyaw3jm3wTl3GJgDXBLmGEREfCvcSb8rsCloe3OgTUREwsDCudrBzH4MXOicuzaw/VPgLOfcjUF9rgOuC2z2AdaGLcDo1wHYEekgROqh/z6909051zHUjnBfyN0CdAvaTgq01XDOTQemhzMovzCzYudcdqTjEAlF/32GR7ind94BUs2sh5m1AkYDc8Mcg4iIb4V1pO+cKzezG4FFVC3ZnOWc+zicMYiI+FnY1+k75xYAC8L9uQJo2kyaN/33GQZhvZArIiKRpdo7IiI+oqQvIuIjSvoiIj6ipO8DZtbdzP5P4P2JZtYu0jGJSGQo6Uc5M/sZ8ALw50BTEvBKxAISCWJmvc1sqZl9FNjub2b/N9JxRTMl/eg3HvgBsBfAObcO6BTRiET+7S/Ab4AjAM65D6i6aVOaiJJ+9DsUqGgKgJnFAlqnK81FG+fcyqPayiMSiU8o6Ue/f5jZb4ETzSwXeB74e4RjEqm2w8xOIzAQCRRlLI1sSNFNN2dFOTOLAa4BhgJGVQmMGU7/x0szYGY9qboT9z+AMmAjMNY593lEA4tiSvpRzsxGAPOdc4ciHYvI0cyshXOuwsxOAmKcc/siHVO00/RO9LsY+JeZ/dXMfhSY0xdpLjaa2XTgbGB/pIPxA430fcDMWlL1XOIrgHOAJdUPshGJJDNrA/yIqhU7ZwDzgDnOuRURDSyKKen7RCDxXwhcDZznnOsQ4ZBEajGz9sDDVM3pt4h0PNFK0ztRzswuMrOngHXASGAG0DmiQYkEMbPzzexx4F2gNTAqwiFFNY30o5yZzQaeBf5HF3OluTGzEuB94DlgrnPuQGQjin5K+iISMWZ2snNub6Tj8BMl/ShlZiucc+eY2T5q34FrgHPOnRyh0EQws9udc/eb2Z8IcYe4c+4/IxCWL2j5XpRyzp0T+KmKmtIcrQn8LI5oFD6kpB/lzOyvzrmfNtQmEk7OuepSIAedc88H7zOzyyMQkm9o9U70ywzeCNycNTBCsYgc7TeNbBOPaKQfpczsN0B1obXqC2UGHKaq1olIxJjZRcAwoKuZPRK062RUZbNJ6UJulDOze51zGjlJs2JmA4As4E7gjqBd+4BlzrmySMTlB0r6PhC40zGVqhtfAHDO/TNyEYlUMbNY55xG9mGk6Z0oZ2bXAhOoekziKqoKW70JDI5gWOJzZvacc24U8L6ZhVpS3D9CoUU9jfSjnJl9COQAbznnsswsDbjHOTciwqGJj5lZonOu1My6h9qvevpNR6t3ot83zrlvAMzsBOfcp0CfCMckPuecq3461g5gUyDJnwAMALZGLDAfUNKPfpvN7BTgFWCJmRUBGkVJc/FPoLWZdQUWAz8FnopoRFFO0zs+YmbnA3HAwuCHpYtEipm955w7w8x+CZwYKM2wyjmXFenYopUu5EY5M4sP2vww8FO/6aW5MDMbBIyl6lnOAKql34Q0vRP93gO2A/+iqqb+dqDEzN4zM92ZK5F2E1V34L7snPs48KD0ZZENKbppeifKmdlfgBecc4sC20OpepjKk8DDzrmzIhmfCICZtQVwzuk5uU1MI/3od3Z1wgdwzi0GBjnn3qJqtYRIxJhZPzN7H/gY+MTM3jWzzIaOk+9Oc/rRr9TMfg3MCWxfAWwzsxZAZeTCEgHgz8AtzrllAGb2Q+AvwH9EMKaoppF+9PsJVXfjvgK8DHQLtLVAzyKVyDupOuEDOOeWAydFLpzopzl9nzCzk/T8UWluzOxlqhYb/DXQ9P8BA51zl0UuquimkX6UM7P/MLNPCDypyMwGmNnjEQ5LpFoB0BF4CXgR6BBokyaikX6UM7O3gR8Dc51zpwfaPnLO9Y1sZOJnZtYauB7oRdX9I7Occ0ciG5U/aKTvA865TUc1VUQkEJF/KwSyqUr4FwH/Fdlw/EOrd6LfJjP7D8CZWUuqyiyvaeAYkaaW4ZzrB2BmM4GVEY7HNzTSj37XA+OBrsAWqp5WND6SAYkANVM5eohKeGlOX0TCzswqgOrVZAacCBzk3w9ROTlSsUU7Jf0oZWZ3HGO3c87dFbZgRKTZUNKPUmZ2a4jmk6iqZHiqc65tmEMSkWZASd8HzKwdVRdwrwGeAx5wzn0V2ahEJBK0eieKBWrp30JVrfJC4AznXFlkoxKRSFLSj1Jm9l/ACGA60E8la0UENL0TtcysEjgElFP7SVlaHSHiY0r6IiI+opuzRER8RElfRMRHlPQlapnZ78zsYzP7wMxWmdm3fh6wmWWZ2bCg7Xwzm+htpHU+84eBekkintPqHYlKZjYI+BFVy1QPmVkHoNV3OFUWVdUgFwA45+YCc72Ksx4/BPYDbzTx54gP6UKuRCUzGwFc7Zy7+Kj2gcB/A22BHcBVzrlSM1sOvA1cAJxC1Y1sbwPrqaoLswW4N/A+2zl3o5k9BXwNnA50ourhH1cCg4C3nXNXBT5zKDCFqgfRfxaIa7+ZlVB1/8TFQEvgcuAb4C2qyl9vB37pnHvd0/9xxNc0vSPRajHQzcz+ZWaPm9n5gdLSfwJ+7JwbCMwC7g46JtY5dyZwE/B759xh4A7gWedclnPu2RCf056qJH8zVX8BPAhkAv0CU0MdgP8L/B/n3BlAMVU3zFXbEWh/AviVc64EmAY8GPhMJXzxlKZ3JCoFRtIDgXOpGr0/C/wB6AssMTOoejh8adBhLwV+vgukNPKj/u6cc2b2IbDNOfchgJl9HDhHEpAB/G/gM1sBb9bzmSMa/w1FvhslfYlazrkKYDmwPJCUxwMfO+cG1XPIocDPChr/b6P6mMqg99XbsYFzLXHOjfHwM0W+M03vSFQysz5mlhrUlEXVE8M6Bi7yYmYtzSyzgVPtA9odRyhvAT8ws16BzzzJzHo38WeK1EtJX6JVW6DQzD4xsw+ommK5g6qHxN9nZquBVUBDSyOXARmBJZ9XfNsgnHPbgauA2YE43gTSGjjs78Blgc8899t+psixaPWOiIiPaKQvIuIjSvoiIj6ipC8i4iNK+iIiPqKkLyLiI0r6IiI+oqQvIuIjSvoiIj7y/wNZoEhX8os+HwAAAABJRU5ErkJggg==\n",
       "datasetInfos": [],
       "metadata": {},
       "removedWidgets": [],
       "type": "image"
      }
     },
     "output_type": "display_data"
    }
   ],
   "source": [
    "# Group by hour and sentiment\n",
    "grouped = pdf.groupby(['Hour', 'Sentiment']).size().reset_index(name='count')\n",
    "\n",
    "# Pivot the table to have hours as columns and sentiments as rows\n",
    "pivoted = grouped.pivot(index='Sentiment', columns='Hour', values='count')\n",
    "\n",
    "# Create a bar plot\n",
    "pivoted.plot(kind='bar')\n",
    "plt.show()"
   ]
  },
  {
   "cell_type": "code",
   "execution_count": 0,
   "metadata": {
    "application/vnd.databricks.v1+cell": {
     "cellMetadata": {
      "byteLimit": 2048000,
      "rowLimit": 10000
     },
     "inputWidgets": {},
     "nuid": "85d454bd-b7f9-443f-a61d-2a21d3a859e9",
     "showTitle": false,
     "title": ""
    }
   },
   "outputs": [
    {
     "output_type": "stream",
     "name": "stdout",
     "output_type": "stream",
     "text": [
      "['cbchealth', 'goodhealth', 'foxnewshealth', 'gdnhealthcare', 'bbchealth', 'everydayhealth', 'cnnhealth', 'nbchealth', 'latimeshealth', 'kaiserhealthnews', 'msnhealthnews', 'nprhealth', 'nytimeshealth', 'reutershealth', 'wsjhealth', 'usnewshealth']\n"
     ]
    }
   ],
   "source": [
    "# filter any rows for which the Publication column contains an invalid value\n",
    "options = ['bbchealth', 'cbchealth', 'cnnhealth', 'everydayhealth', 'foxnewshealth', \\\n",
    "  'gdnhealthcare', 'goodhealth', 'kaiserhealthnews', 'latimeshealth', 'msnhealthnews'\\\n",
    "  , 'nbchealth', 'nprhealth', 'nytimeshealth', 'reutershealth', 'usnewshealth', \\\n",
    "  'wsjhealth',]\n",
    "\n",
    "df = df.filter(df['Publication'].isin(options))\n",
    "\n",
    "unique_values = df.select('Publication').distinct().rdd.map(lambda r: r[0]).collect()\n",
    "print(unique_values)"
   ]
  },
  {
   "cell_type": "code",
   "execution_count": 0,
   "metadata": {
    "application/vnd.databricks.v1+cell": {
     "cellMetadata": {
      "byteLimit": 2048000,
      "rowLimit": 10000
     },
     "inputWidgets": {},
     "nuid": "2f74ed60-06bd-4715-99b1-d9eaaf95294e",
     "showTitle": false,
     "title": ""
    }
   },
   "outputs": [
    {
     "output_type": "display_data",
     "data": {
      "text/html": [
       "<style scoped>\n",
       "  .table-result-container {\n",
       "    max-height: 300px;\n",
       "    overflow: auto;\n",
       "  }\n",
       "  table, th, td {\n",
       "    border: 1px solid black;\n",
       "    border-collapse: collapse;\n",
       "  }\n",
       "  th, td {\n",
       "    padding: 5px;\n",
       "  }\n",
       "  th {\n",
       "    text-align: left;\n",
       "  }\n",
       "</style><div class='table-result-container'><table class='table-result'><thead style='background-color: white'><tr><th>Publication</th><th>Sentiment</th><th>count</th></tr></thead><tbody><tr><td>bbchealth</td><td>Negative</td><td>1240</td></tr><tr><td>bbchealth</td><td>Positive</td><td>2688</td></tr><tr><td>cbchealth</td><td>Negative</td><td>1343</td></tr><tr><td>cbchealth</td><td>Positive</td><td>2377</td></tr><tr><td>cnnhealth</td><td>Positive</td><td>2773</td></tr><tr><td>cnnhealth</td><td>Negative</td><td>1241</td></tr><tr><td>everydayhealth</td><td>Negative</td><td>774</td></tr><tr><td>everydayhealth</td><td>Positive</td><td>2455</td></tr><tr><td>foxnewshealth</td><td>Negative</td><td>726</td></tr><tr><td>foxnewshealth</td><td>Positive</td><td>1273</td></tr><tr><td>gdnhealthcare</td><td>Positive</td><td>2514</td></tr><tr><td>gdnhealthcare</td><td>Negative</td><td>439</td></tr><tr><td>goodhealth</td><td>Positive</td><td>6202</td></tr><tr><td>goodhealth</td><td>Negative</td><td>1484</td></tr><tr><td>kaiserhealthnews</td><td>Negative</td><td>695</td></tr><tr><td>kaiserhealthnews</td><td>Positive</td><td>2796</td></tr><tr><td>latimeshealth</td><td>Positive</td><td>2840</td></tr><tr><td>latimeshealth</td><td>Negative</td><td>1286</td></tr><tr><td>msnhealthnews</td><td>Positive</td><td>1891</td></tr><tr><td>msnhealthnews</td><td>Negative</td><td>1307</td></tr><tr><td>nbchealth</td><td>Negative</td><td>1541</td></tr><tr><td>nbchealth</td><td>Positive</td><td>2671</td></tr><tr><td>nprhealth</td><td>Positive</td><td>3394</td></tr><tr><td>nprhealth</td><td>Negative</td><td>1438</td></tr><tr><td>nytimeshealth</td><td>Negative</td><td>1729</td></tr><tr><td>nytimeshealth</td><td>Positive</td><td>4181</td></tr><tr><td>reutershealth</td><td>Positive</td><td>2994</td></tr><tr><td>reutershealth</td><td>Negative</td><td>1722</td></tr><tr><td>usnewshealth</td><td>Positive</td><td>1080</td></tr><tr><td>usnewshealth</td><td>Negative</td><td>297</td></tr><tr><td>wsjhealth</td><td>Negative</td><td>891</td></tr><tr><td>wsjhealth</td><td>Positive</td><td>2280</td></tr></tbody></table></div>"
      ]
     },
     "metadata": {
      "application/vnd.databricks.v1+output": {
       "addedWidgets": {},
       "aggData": [],
       "aggError": "",
       "aggOverflow": false,
       "aggSchema": [],
       "aggSeriesLimitReached": false,
       "aggType": "",
       "arguments": {},
       "columnCustomDisplayInfos": {},
       "data": [
        [
         "bbchealth",
         "Negative",
         1240
        ],
        [
         "bbchealth",
         "Positive",
         2688
        ],
        [
         "cbchealth",
         "Negative",
         1343
        ],
        [
         "cbchealth",
         "Positive",
         2377
        ],
        [
         "cnnhealth",
         "Positive",
         2773
        ],
        [
         "cnnhealth",
         "Negative",
         1241
        ],
        [
         "everydayhealth",
         "Negative",
         774
        ],
        [
         "everydayhealth",
         "Positive",
         2455
        ],
        [
         "foxnewshealth",
         "Negative",
         726
        ],
        [
         "foxnewshealth",
         "Positive",
         1273
        ],
        [
         "gdnhealthcare",
         "Positive",
         2514
        ],
        [
         "gdnhealthcare",
         "Negative",
         439
        ],
        [
         "goodhealth",
         "Positive",
         6202
        ],
        [
         "goodhealth",
         "Negative",
         1484
        ],
        [
         "kaiserhealthnews",
         "Negative",
         695
        ],
        [
         "kaiserhealthnews",
         "Positive",
         2796
        ],
        [
         "latimeshealth",
         "Positive",
         2840
        ],
        [
         "latimeshealth",
         "Negative",
         1286
        ],
        [
         "msnhealthnews",
         "Positive",
         1891
        ],
        [
         "msnhealthnews",
         "Negative",
         1307
        ],
        [
         "nbchealth",
         "Negative",
         1541
        ],
        [
         "nbchealth",
         "Positive",
         2671
        ],
        [
         "nprhealth",
         "Positive",
         3394
        ],
        [
         "nprhealth",
         "Negative",
         1438
        ],
        [
         "nytimeshealth",
         "Negative",
         1729
        ],
        [
         "nytimeshealth",
         "Positive",
         4181
        ],
        [
         "reutershealth",
         "Positive",
         2994
        ],
        [
         "reutershealth",
         "Negative",
         1722
        ],
        [
         "usnewshealth",
         "Positive",
         1080
        ],
        [
         "usnewshealth",
         "Negative",
         297
        ],
        [
         "wsjhealth",
         "Negative",
         891
        ],
        [
         "wsjhealth",
         "Positive",
         2280
        ]
       ],
       "datasetInfos": [],
       "dbfsResultPath": null,
       "isJsonSchema": true,
       "metadata": {},
       "overflow": false,
       "plotOptions": {
        "customPlotOptions": {},
        "displayType": "table",
        "pivotAggregation": null,
        "pivotColumns": null,
        "xColumns": null,
        "yColumns": null
       },
       "removedWidgets": [],
       "schema": [
        {
         "metadata": "{}",
         "name": "Publication",
         "type": "\"string\""
        },
        {
         "metadata": "{}",
         "name": "Sentiment",
         "type": "\"string\""
        },
        {
         "metadata": "{}",
         "name": "count",
         "type": "\"long\""
        }
       ],
       "type": "table"
      }
     },
     "output_type": "display_data"
    },
    {
     "output_type": "stream",
     "name": "stdout",
     "output_type": "stream",
     "text": [
      "Positive to Negative Ratio: 2.45\n"
     ]
    }
   ],
   "source": [
    "# Group the data by 'Publication' and 'Sentiment' and count the number of rows in each group\n",
    "grouped_df = df.groupBy('Publication', 'Sentiment').agg(F.count('*').alias('count'))\n",
    "\n",
    "# Sort the data by the order of the publications\n",
    "grouped_df_ordered = grouped_df.orderBy(F.when(F.col('Publication').isin(options), F.col('Publication')).otherwise(F.lit('ZZZ')))\n",
    "\n",
    "# Use the 'display' function to create a stacked bar chart\n",
    "display(grouped_df_ordered, x='Publication', y='count', z='Sentiment', kind='bar', stacked=True)\n",
    "\n",
    "# Show the positive to negative ratio in the sentiment column for comparison\n",
    "grouped_df = df.groupBy('Sentiment').agg(F.count('*').alias('count'))\n",
    "\n",
    "# Pivot the data to count the number of 'Positive' and 'Negative' instances separately\n",
    "pivoted_df = grouped_df.groupBy().pivot('Sentiment', ['Positive', 'Negative']).sum('count')\n",
    "\n",
    "# Calculate the ratio of 'Positive' to 'Negative' instances\n",
    "positive_count = pivoted_df.select('Positive').collect()[0][0]\n",
    "negative_count = pivoted_df.select('Negative').collect()[0][0]\n",
    "positive_to_negative_ratio = positive_count / negative_count\n",
    "\n",
    "print('Positive to Negative Ratio: {:.2f}'.format(positive_to_negative_ratio))"
   ]
  },
  {
   "cell_type": "code",
   "execution_count": 0,
   "metadata": {
    "application/vnd.databricks.v1+cell": {
     "cellMetadata": {
      "byteLimit": 2048000,
      "rowLimit": 10000
     },
     "inputWidgets": {},
     "nuid": "b01abc1c-ba46-4956-b84e-891724e00389",
     "showTitle": false,
     "title": ""
    }
   },
   "outputs": [],
   "source": [
    "## Create a Pipeline with Spark ML\n",
    "\n",
    "# Convert string columns to numeric type\n",
    "labelIndexer = StringIndexer(inputCol=\"Sentiment\", outputCol=\"label\", handleInvalid=\"keep\")\n",
    "df = labelIndexer.fit(df).transform(df)\n",
    "df = df.drop(\"Sentiment\")"
   ]
  },
  {
   "cell_type": "code",
   "execution_count": 0,
   "metadata": {
    "application/vnd.databricks.v1+cell": {
     "cellMetadata": {
      "byteLimit": 2048000,
      "rowLimit": 10000
     },
     "inputWidgets": {},
     "nuid": "8910fd72-315a-4131-b9c9-0c4175510254",
     "showTitle": false,
     "title": ""
    }
   },
   "outputs": [],
   "source": [
    "df = df.withColumn(\"Tweet ID\", F.col(\"Tweet ID\").cast(LongType()))"
   ]
  },
  {
   "cell_type": "code",
   "execution_count": 0,
   "metadata": {
    "application/vnd.databricks.v1+cell": {
     "cellMetadata": {
      "byteLimit": 2048000,
      "rowLimit": 10000
     },
     "inputWidgets": {},
     "nuid": "95dc0eb8-9a56-44df-9396-fe89b3654c40",
     "showTitle": false,
     "title": ""
    }
   },
   "outputs": [],
   "source": [
    "for c in [\"Tweet Content\", \"Publication\"]:\n",
    "    indexer = StringIndexer(inputCol=c, outputCol=c+\"_num\", handleInvalid=\"keep\").fit(df)\n",
    "    df = indexer.transform(df).drop(c)\n",
    "\n",
    "# One-hot encode Publication and Sentiment columns\n",
    "encoder1 = OneHotEncoder(inputCol=\"Publication_num\", outputCol=\"Publication_vec\", handleInvalid=\"keep\")\n",
    "\n",
    "# Create feature vector\n",
    "feature_cols = df.columns\n",
    "feature_cols.remove('label')\n",
    "\n",
    "vectorAssembler = VectorAssembler(inputCols=feature_cols, outputCol=\"features\", handleInvalid=\"skip\")"
   ]
  },
  {
   "cell_type": "code",
   "execution_count": 0,
   "metadata": {
    "application/vnd.databricks.v1+cell": {
     "cellMetadata": {
      "byteLimit": 2048000,
      "rowLimit": 10000
     },
     "inputWidgets": {},
     "nuid": "3dfaca20-0b42-4fb0-a5db-9352c9a0c952",
     "showTitle": false,
     "title": ""
    }
   },
   "outputs": [
    {
     "output_type": "display_data",
     "data": {
      "text/html": [
       "<style scoped>\n",
       "  .ansiout {\n",
       "    display: block;\n",
       "    unicode-bidi: embed;\n",
       "    white-space: pre-wrap;\n",
       "    word-wrap: break-word;\n",
       "    word-break: break-all;\n",
       "    font-family: \"Source Code Pro\", \"Menlo\", monospace;;\n",
       "    font-size: 13px;\n",
       "    color: #555;\n",
       "    margin-left: 4px;\n",
       "    line-height: 19px;\n",
       "  }\n",
       "</style>"
      ]
     },
     "metadata": {
      "application/vnd.databricks.v1+output": {
       "arguments": {},
       "data": "",
       "errorSummary": "The spark driver has stopped unexpectedly and is restarting. Your notebook will be automatically reattached.",
       "errorTraceType": "html",
       "metadata": {},
       "type": "ipynbError"
      }
     },
     "output_type": "display_data"
    }
   ],
   "source": [
    "df.show(1000)"
   ]
  },
  {
   "cell_type": "code",
   "execution_count": 0,
   "metadata": {
    "application/vnd.databricks.v1+cell": {
     "cellMetadata": {
      "byteLimit": 2048000,
      "rowLimit": 10000
     },
     "inputWidgets": {},
     "nuid": "fb478bb4-dc20-4307-ad2b-9b8e600456fd",
     "showTitle": false,
     "title": ""
    }
   },
   "outputs": [
    {
     "output_type": "display_data",
     "data": {
      "text/html": [
       "<style scoped>\n",
       "  .ansiout {\n",
       "    display: block;\n",
       "    unicode-bidi: embed;\n",
       "    white-space: pre-wrap;\n",
       "    word-wrap: break-word;\n",
       "    word-break: break-all;\n",
       "    font-family: \"Source Code Pro\", \"Menlo\", monospace;;\n",
       "    font-size: 13px;\n",
       "    color: #555;\n",
       "    margin-left: 4px;\n",
       "    line-height: 19px;\n",
       "  }\n",
       "</style>"
      ]
     },
     "metadata": {
      "application/vnd.databricks.v1+output": {
       "arguments": {},
       "data": "",
       "errorSummary": "Command skipped",
       "errorTraceType": "html",
       "metadata": {},
       "type": "ipynbError"
      }
     },
     "output_type": "display_data"
    }
   ],
   "source": [
    "# Train Naive Bayes model\n",
    "nb = NaiveBayes(modelType=\"multinomial\", labelCol=\"label\", featuresCol=\"features\")"
   ]
  },
  {
   "cell_type": "code",
   "execution_count": 0,
   "metadata": {
    "application/vnd.databricks.v1+cell": {
     "cellMetadata": {
      "byteLimit": 2048000,
      "rowLimit": 10000
     },
     "inputWidgets": {},
     "nuid": "37909d6f-16b9-408a-98df-f3f2f4a5403f",
     "showTitle": false,
     "title": ""
    }
   },
   "outputs": [
    {
     "output_type": "display_data",
     "data": {
      "text/html": [
       "<style scoped>\n",
       "  .ansiout {\n",
       "    display: block;\n",
       "    unicode-bidi: embed;\n",
       "    white-space: pre-wrap;\n",
       "    word-wrap: break-word;\n",
       "    word-break: break-all;\n",
       "    font-family: \"Source Code Pro\", \"Menlo\", monospace;;\n",
       "    font-size: 13px;\n",
       "    color: #555;\n",
       "    margin-left: 4px;\n",
       "    line-height: 19px;\n",
       "  }\n",
       "</style>"
      ]
     },
     "metadata": {
      "application/vnd.databricks.v1+output": {
       "arguments": {},
       "data": "",
       "errorSummary": "Command skipped",
       "errorTraceType": "html",
       "metadata": {},
       "type": "ipynbError"
      }
     },
     "output_type": "display_data"
    }
   ],
   "source": [
    "# Create parameter grid\n",
    "paramGrid = ParamGridBuilder() \\\n",
    "    .addGrid(nb.smoothing, [0.0, 0.2, 0.4, 0.6, 0.8, 1.0]) \\\n",
    "    .build()"
   ]
  },
  {
   "cell_type": "code",
   "execution_count": 0,
   "metadata": {
    "application/vnd.databricks.v1+cell": {
     "cellMetadata": {
      "byteLimit": 2048000,
      "rowLimit": 10000
     },
     "inputWidgets": {},
     "nuid": "d2ec943a-a54f-48e0-a46f-4434acbbf9a8",
     "showTitle": false,
     "title": ""
    }
   },
   "outputs": [
    {
     "output_type": "display_data",
     "data": {
      "text/html": [
       "<style scoped>\n",
       "  .ansiout {\n",
       "    display: block;\n",
       "    unicode-bidi: embed;\n",
       "    white-space: pre-wrap;\n",
       "    word-wrap: break-word;\n",
       "    word-break: break-all;\n",
       "    font-family: \"Source Code Pro\", \"Menlo\", monospace;;\n",
       "    font-size: 13px;\n",
       "    color: #555;\n",
       "    margin-left: 4px;\n",
       "    line-height: 19px;\n",
       "  }\n",
       "</style>"
      ]
     },
     "metadata": {
      "application/vnd.databricks.v1+output": {
       "arguments": {},
       "data": "",
       "errorSummary": "Command skipped",
       "errorTraceType": "html",
       "metadata": {},
       "type": "ipynbError"
      }
     },
     "output_type": "display_data"
    }
   ],
   "source": [
    "# Evaluate model using accuracy\n",
    "evaluator = MulticlassClassificationEvaluator(labelCol=\"label\", predictionCol=\"prediction\", metricName=\"f1\")"
   ]
  },
  {
   "cell_type": "code",
   "execution_count": 0,
   "metadata": {
    "application/vnd.databricks.v1+cell": {
     "cellMetadata": {
      "byteLimit": 2048000,
      "rowLimit": 10000
     },
     "inputWidgets": {},
     "nuid": "38977e48-c55d-4ecc-a822-6c52b1d2028b",
     "showTitle": false,
     "title": ""
    }
   },
   "outputs": [
    {
     "output_type": "display_data",
     "data": {
      "text/html": [
       "<style scoped>\n",
       "  .ansiout {\n",
       "    display: block;\n",
       "    unicode-bidi: embed;\n",
       "    white-space: pre-wrap;\n",
       "    word-wrap: break-word;\n",
       "    word-break: break-all;\n",
       "    font-family: \"Source Code Pro\", \"Menlo\", monospace;;\n",
       "    font-size: 13px;\n",
       "    color: #555;\n",
       "    margin-left: 4px;\n",
       "    line-height: 19px;\n",
       "  }\n",
       "</style>"
      ]
     },
     "metadata": {
      "application/vnd.databricks.v1+output": {
       "arguments": {},
       "data": "",
       "errorSummary": "Command skipped",
       "errorTraceType": "html",
       "metadata": {},
       "type": "ipynbError"
      }
     },
     "output_type": "display_data"
    }
   ],
   "source": [
    "cv = CrossValidator(estimator=nb, estimatorParamMaps=paramGrid, evaluator=evaluator)"
   ]
  },
  {
   "cell_type": "code",
   "execution_count": 0,
   "metadata": {
    "application/vnd.databricks.v1+cell": {
     "cellMetadata": {
      "byteLimit": 2048000,
      "rowLimit": 10000
     },
     "inputWidgets": {},
     "nuid": "8e5dc703-4af5-4eb6-87ab-aa91edc5212f",
     "showTitle": false,
     "title": ""
    }
   },
   "outputs": [
    {
     "output_type": "display_data",
     "data": {
      "text/html": [
       "<style scoped>\n",
       "  .ansiout {\n",
       "    display: block;\n",
       "    unicode-bidi: embed;\n",
       "    white-space: pre-wrap;\n",
       "    word-wrap: break-word;\n",
       "    word-break: break-all;\n",
       "    font-family: \"Source Code Pro\", \"Menlo\", monospace;;\n",
       "    font-size: 13px;\n",
       "    color: #555;\n",
       "    margin-left: 4px;\n",
       "    line-height: 19px;\n",
       "  }\n",
       "</style>"
      ]
     },
     "metadata": {
      "application/vnd.databricks.v1+output": {
       "arguments": {},
       "data": "",
       "errorSummary": "Command skipped",
       "errorTraceType": "html",
       "metadata": {},
       "type": "ipynbError"
      }
     },
     "output_type": "display_data"
    }
   ],
   "source": [
    "# Chain indexers and model in a Pipeline\n",
    "pipeline = Pipeline(stages=[indexer, encoder1, vectorAssembler, cv])"
   ]
  },
  {
   "cell_type": "code",
   "execution_count": 0,
   "metadata": {
    "application/vnd.databricks.v1+cell": {
     "cellMetadata": {
      "byteLimit": 2048000,
      "rowLimit": 10000
     },
     "inputWidgets": {},
     "nuid": "3463f7c7-9f0d-46eb-904a-e3ca9e0b90f4",
     "showTitle": false,
     "title": ""
    }
   },
   "outputs": [
    {
     "output_type": "display_data",
     "data": {
      "text/html": [
       "<style scoped>\n",
       "  .ansiout {\n",
       "    display: block;\n",
       "    unicode-bidi: embed;\n",
       "    white-space: pre-wrap;\n",
       "    word-wrap: break-word;\n",
       "    word-break: break-all;\n",
       "    font-family: \"Source Code Pro\", \"Menlo\", monospace;;\n",
       "    font-size: 13px;\n",
       "    color: #555;\n",
       "    margin-left: 4px;\n",
       "    line-height: 19px;\n",
       "  }\n",
       "</style>"
      ]
     },
     "metadata": {
      "application/vnd.databricks.v1+output": {
       "arguments": {},
       "data": "",
       "errorSummary": "Command skipped",
       "errorTraceType": "html",
       "metadata": {},
       "type": "ipynbError"
      }
     },
     "output_type": "display_data"
    }
   ],
   "source": [
    "pipelineModel = pipeline.fit(df)"
   ]
  },
  {
   "cell_type": "code",
   "execution_count": 0,
   "metadata": {
    "application/vnd.databricks.v1+cell": {
     "cellMetadata": {
      "byteLimit": 2048000,
      "rowLimit": 10000
     },
     "inputWidgets": {},
     "nuid": "bea93275-90f4-488f-a90a-edce985b2274",
     "showTitle": false,
     "title": ""
    }
   },
   "outputs": [
    {
     "output_type": "display_data",
     "data": {
      "text/html": [
       "<style scoped>\n",
       "  .ansiout {\n",
       "    display: block;\n",
       "    unicode-bidi: embed;\n",
       "    white-space: pre-wrap;\n",
       "    word-wrap: break-word;\n",
       "    word-break: break-all;\n",
       "    font-family: \"Source Code Pro\", \"Menlo\", monospace;;\n",
       "    font-size: 13px;\n",
       "    color: #555;\n",
       "    margin-left: 4px;\n",
       "    line-height: 19px;\n",
       "  }\n",
       "</style>"
      ]
     },
     "metadata": {
      "application/vnd.databricks.v1+output": {
       "arguments": {},
       "data": "",
       "errorSummary": "Command skipped",
       "errorTraceType": "html",
       "metadata": {},
       "type": "ipynbError"
      }
     },
     "output_type": "display_data"
    }
   ],
   "source": [
    "\"Extracting feature importances so we can drop less important features\"\n",
    "cvModel = pipelineModel.stages[1]\n",
    "pairs = cvModel.bestModel.featureImportances\n",
    "\n",
    "for i in zip(df.columns, pairs):\n",
    "    if i[1] <= 0 and i[0] != 'label':\n",
    "        #df = df.drop(i[0])\n",
    "        print(\"Removing:\", i)\n",
    "    else:\n",
    "        print(\"Keeping:\", i)"
   ]
  },
  {
   "cell_type": "code",
   "execution_count": 0,
   "metadata": {
    "application/vnd.databricks.v1+cell": {
     "cellMetadata": {
      "byteLimit": 2048000,
      "rowLimit": 10000
     },
     "inputWidgets": {},
     "nuid": "a4831c50-1724-40df-b820-a7863b580062",
     "showTitle": false,
     "title": ""
    }
   },
   "outputs": [
    {
     "output_type": "display_data",
     "data": {
      "text/html": [
       "<style scoped>\n",
       "  .ansiout {\n",
       "    display: block;\n",
       "    unicode-bidi: embed;\n",
       "    white-space: pre-wrap;\n",
       "    word-wrap: break-word;\n",
       "    word-break: break-all;\n",
       "    font-family: \"Source Code Pro\", \"Menlo\", monospace;;\n",
       "    font-size: 13px;\n",
       "    color: #555;\n",
       "    margin-left: 4px;\n",
       "    line-height: 19px;\n",
       "  }\n",
       "</style>"
      ]
     },
     "metadata": {
      "application/vnd.databricks.v1+output": {
       "arguments": {},
       "data": "",
       "errorSummary": "Command skipped",
       "errorTraceType": "html",
       "metadata": {},
       "type": "ipynbError"
      }
     },
     "output_type": "display_data"
    }
   ],
   "source": [
    "\"\"\"There is no feature importance function in Naive Bayes so trying gradient descent/random forest\"\"\"\n",
    "\n",
    "\"\"\"Created a new vector assembler because our 7th feature had too many categorical values and it had to be dropped\"\"\"\n",
    "# Identify the index of the problematic categorical feature (assuming it's the 7th feature)\n",
    "cat_feature_index = 7\n",
    "\n",
    "# Drop the problematic categorical feature\n",
    "feature_cols = [c for c in df.columns if c not in [\"label\", \"Publication_num\", \"Sentiment_num\"]]\n",
    "feature_cols.pop(cat_feature_index)\n",
    "\n",
    "# Create a new VectorAssembler with the updated feature columns\n",
    "vectorAssembler2 = VectorAssembler(inputCols=feature_cols, outputCol=\"features\", handleInvalid=\"keep\")"
   ]
  },
  {
   "cell_type": "code",
   "execution_count": 0,
   "metadata": {
    "application/vnd.databricks.v1+cell": {
     "cellMetadata": {
      "byteLimit": 2048000,
      "rowLimit": 10000
     },
     "inputWidgets": {},
     "nuid": "0853f238-1937-41b4-b93b-178c6a73c8bd",
     "showTitle": false,
     "title": ""
    }
   },
   "outputs": [
    {
     "output_type": "display_data",
     "data": {
      "text/html": [
       "<style scoped>\n",
       "  .ansiout {\n",
       "    display: block;\n",
       "    unicode-bidi: embed;\n",
       "    white-space: pre-wrap;\n",
       "    word-wrap: break-word;\n",
       "    word-break: break-all;\n",
       "    font-family: \"Source Code Pro\", \"Menlo\", monospace;;\n",
       "    font-size: 13px;\n",
       "    color: #555;\n",
       "    margin-left: 4px;\n",
       "    line-height: 19px;\n",
       "  }\n",
       "</style>"
      ]
     },
     "metadata": {
      "application/vnd.databricks.v1+output": {
       "arguments": {},
       "data": "",
       "errorSummary": "Command skipped",
       "errorTraceType": "html",
       "metadata": {},
       "type": "ipynbError"
      }
     },
     "output_type": "display_data"
    }
   ],
   "source": [
    "gbt = GBTClassifier(labelCol=\"label\", maxBins=60000)\n",
    "\n",
    "paramGrid2 = ParamGridBuilder()\\\n",
    "  .addGrid(gbt.maxDepth, [5, 8])\\\n",
    "  .addGrid(gbt.maxIter, [10, 100])\\\n",
    "  .build()\n",
    "\n",
    "evaluator2 = MulticlassClassificationEvaluator(metricName='f1', labelCol=\"label\")\n",
    "\n",
    "cv2 = CrossValidator(estimator=gbt, estimatorParamMaps=paramGrid2, evaluator=evaluator2, numFolds=5, parallelism=4)\n",
    "pipeline2 = Pipeline(stages=[indexer, vectorAssembler2, cv2])"
   ]
  },
  {
   "cell_type": "code",
   "execution_count": 0,
   "metadata": {
    "application/vnd.databricks.v1+cell": {
     "cellMetadata": {
      "byteLimit": 2048000,
      "rowLimit": 10000
     },
     "inputWidgets": {},
     "nuid": "4402ba34-35b1-4928-bedf-e23abb29a0bd",
     "showTitle": false,
     "title": ""
    }
   },
   "outputs": [
    {
     "output_type": "display_data",
     "data": {
      "text/html": [
       "<style scoped>\n",
       "  .ansiout {\n",
       "    display: block;\n",
       "    unicode-bidi: embed;\n",
       "    white-space: pre-wrap;\n",
       "    word-wrap: break-word;\n",
       "    word-break: break-all;\n",
       "    font-family: \"Source Code Pro\", \"Menlo\", monospace;;\n",
       "    font-size: 13px;\n",
       "    color: #555;\n",
       "    margin-left: 4px;\n",
       "    line-height: 19px;\n",
       "  }\n",
       "</style>"
      ]
     },
     "metadata": {
      "application/vnd.databricks.v1+output": {
       "arguments": {},
       "data": "",
       "errorSummary": "Command skipped",
       "errorTraceType": "html",
       "metadata": {},
       "type": "ipynbError"
      }
     },
     "output_type": "display_data"
    }
   ],
   "source": [
    "pipelineModel2 = pipeline2.fit(df)"
   ]
  },
  {
   "cell_type": "code",
   "execution_count": 0,
   "metadata": {
    "application/vnd.databricks.v1+cell": {
     "cellMetadata": {
      "byteLimit": 2048000,
      "rowLimit": 10000
     },
     "inputWidgets": {},
     "nuid": "cf8ed627-ce25-4ba8-ab95-ba3d46abb6bf",
     "showTitle": false,
     "title": ""
    }
   },
   "outputs": [
    {
     "output_type": "display_data",
     "data": {
      "text/html": [
       "<style scoped>\n",
       "  .ansiout {\n",
       "    display: block;\n",
       "    unicode-bidi: embed;\n",
       "    white-space: pre-wrap;\n",
       "    word-wrap: break-word;\n",
       "    word-break: break-all;\n",
       "    font-family: \"Source Code Pro\", \"Menlo\", monospace;;\n",
       "    font-size: 13px;\n",
       "    color: #555;\n",
       "    margin-left: 4px;\n",
       "    line-height: 19px;\n",
       "  }\n",
       "</style>"
      ]
     },
     "metadata": {
      "application/vnd.databricks.v1+output": {
       "arguments": {},
       "data": "",
       "errorSummary": "Command skipped",
       "errorTraceType": "html",
       "metadata": {},
       "type": "ipynbError"
      }
     },
     "output_type": "display_data"
    }
   ],
   "source": [
    "\"Extracting feature importances so we can drop less important features\"\n",
    "cvModel = pipelineModel2.stages[1]\n",
    "pairs = cvModel.bestModel.featureImportances\n",
    "\n",
    "for i in zip(df.columns, pairs):\n",
    "    if i[1] <= 0 and i[0] != 'label':\n",
    "        #df = df.drop(i[0])\n",
    "        print(\"Removing:\", i)\n",
    "    else:\n",
    "        print(\"Keeping:\", i)"
   ]
  },
  {
   "cell_type": "code",
   "execution_count": 0,
   "metadata": {
    "application/vnd.databricks.v1+cell": {
     "cellMetadata": {
      "byteLimit": 2048000,
      "rowLimit": 10000
     },
     "inputWidgets": {},
     "nuid": "5e3562ee-6f93-4189-b795-d6fcef755386",
     "showTitle": false,
     "title": ""
    }
   },
   "outputs": [
    {
     "output_type": "display_data",
     "data": {
      "text/html": [
       "<style scoped>\n",
       "  .ansiout {\n",
       "    display: block;\n",
       "    unicode-bidi: embed;\n",
       "    white-space: pre-wrap;\n",
       "    word-wrap: break-word;\n",
       "    word-break: break-all;\n",
       "    font-family: \"Source Code Pro\", \"Menlo\", monospace;;\n",
       "    font-size: 13px;\n",
       "    color: #555;\n",
       "    margin-left: 4px;\n",
       "    line-height: 19px;\n",
       "  }\n",
       "</style>"
      ]
     },
     "metadata": {
      "application/vnd.databricks.v1+output": {
       "arguments": {},
       "data": "",
       "errorSummary": "Command skipped",
       "errorTraceType": "html",
       "metadata": {},
       "type": "ipynbError"
      }
     },
     "output_type": "display_data"
    }
   ],
   "source": [
    "df.unpersist()"
   ]
  },
  {
   "cell_type": "code",
   "execution_count": 0,
   "metadata": {
    "application/vnd.databricks.v1+cell": {
     "cellMetadata": {
      "byteLimit": 2048000,
      "rowLimit": 10000
     },
     "inputWidgets": {},
     "nuid": "b2dc2a71-eed9-44cc-9800-af77afb4bb8c",
     "showTitle": false,
     "title": ""
    }
   },
   "outputs": [
    {
     "output_type": "stream",
     "name": "stderr",
     "output_type": "stream",
     "text": [
      "/databricks/spark/python/pyspark/context.py:698: RuntimeWarning: Unable to cleanly shutdown Spark JVM process. It is possible that the process has crashed, been killed or may also be in a zombie state.\n  warnings.warn(\n"
     ]
    }
   ],
   "source": [
    "spark.stop()"
   ]
  },
  {
   "cell_type": "code",
   "execution_count": 0,
   "metadata": {
    "application/vnd.databricks.v1+cell": {
     "cellMetadata": {},
     "inputWidgets": {},
     "nuid": "756ddbe4-7232-4033-aba2-03735011eaf4",
     "showTitle": false,
     "title": ""
    }
   },
   "outputs": [],
   "source": []
  }
 ],
 "metadata": {
  "application/vnd.databricks.v1+notebook": {
   "dashboards": [],
   "language": "python",
   "notebookMetadata": {
    "pythonIndentUnit": 2
   },
   "notebookName": "Health Sentiment",
   "widgets": {}
  }
 },
 "nbformat": 4,
 "nbformat_minor": 0
}
